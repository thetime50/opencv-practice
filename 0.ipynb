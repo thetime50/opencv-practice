{
 "cells": [
  {
   "cell_type": "code",
   "execution_count": 3,
   "metadata": {},
   "outputs": [
    {
     "name": "stdout",
     "output_type": "stream",
     "text": [
      "hello\n",
      "# conda environments:\n",
      "#\n",
      "base                     E:\\ProgramData\\Anaconda3\n",
      "manim                    E:\\ProgramData\\Anaconda3\\envs\\manim\n",
      "opencv                *  E:\\ProgramData\\Anaconda3\\envs\\opencv\n",
      "\n",
      "['hello'] <class 'IPython.utils.text.SList'>\n",
      "4.0.1\n",
      "E:\\ProgramData\\Anaconda3\\envs\\opencv\\lib\\site-packages\\cv2.cp38-win_amd64.pyd\n"
     ]
    }
   ],
   "source": [
    "import cv2 as cv\n",
    "import os\n",
    "import sys\n",
    "sys.executable\n",
    "\n",
    "# os.system('echo hello')\n",
    "# os.system('conda info --envs')\n",
    "\n",
    "!echo hello\n",
    "!conda info --envs\n",
    "\n",
    "a=!echo hello\n",
    "\n",
    "print(a,type(a))\n",
    "print(cv.__version__)\n",
    "print(cv.__file__)"
   ]
  }
 ],
 "metadata": {
  "kernelspec": {
   "display_name": "conda opencv",
   "language": "python",
   "name": "opencv"
  },
  "language_info": {
   "codemirror_mode": {
    "name": "ipython",
    "version": 3
   },
   "file_extension": ".py",
   "mimetype": "text/x-python",
   "name": "python",
   "nbconvert_exporter": "python",
   "pygments_lexer": "ipython3",
   "version": "3.8.2"
  }
 },
 "nbformat": 4,
 "nbformat_minor": 2
}
