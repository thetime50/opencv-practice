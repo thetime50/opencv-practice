{
 "cells": [
  {
   "cell_type": "markdown",
   "metadata": {},
   "source": [
    "## P37 图像阈值处理\n",
    "\n",
    "- 简单阈值设置(Simple thresholding)\n",
    "- 自适应阈值设置(Adaptive thresholding)\n",
    "- Otsu阈值设置(Otsu's thresholding)\n",
    "- 主要函数: cv.threshold、 cv.adaptiveThreshold.\n"
   ]
  },
  {
   "cell_type": "code",
   "execution_count": null,
   "metadata": {},
   "outputs": [],
   "source": [
    "##导入本实验所需数据集\n",
    "import os\n",
    "import zipfile\n",
    "import requests \n",
    "zipName ='doc/opencv_dataset_01.zip'\n",
    "print(111)\n",
    "# if not os.path.exists(zipName) :\n",
    "#     print('下载数据集，请稍等.....')\n",
    "#     url ='http://dolphin-public.oss-cn-shanghai.aliyuncs.com/dataset/Marry/opencv/opencv_dataset_01.zip'\n",
    "#     r = requests.get(url)\n",
    "#     with open(zipName,\"wb\" ) as code:\n",
    "#         code.write (r.content)\n",
    "# if not os.path.exists('./opencv_dataset_01' ):\n",
    "#     with zipfile.ZipFile('./opencv_dataset_01.zip' ) as z:\n",
    "#         z.extractall()\n",
    "# print('数据集完毕')\n"
   ]
  },
  {
   "cell_type": "code",
   "execution_count": null,
   "metadata": {},
   "outputs": [],
   "source": [
    "import cv2 as cv\n",
    "import numpy as np\n",
    "import matplotlib.pyplot as plt\n",
    "import tool\n",
    "%matplotlib inline\n",
    "# tool.setGrid(1,1)\n",
    "print(111)"
   ]
  },
  {
   "cell_type": "markdown",
   "metadata": {},
   "source": [
    "## P45 双边滤波"
   ]
  }
 ],
 "metadata": {
  "kernelspec": {
   "display_name": "conda opencv",
   "language": "python",
   "name": "opencv"
  },
  "language_info": {
   "codemirror_mode": {
    "name": "ipython",
    "version": 3
   },
   "file_extension": ".py",
   "mimetype": "text/x-python",
   "name": "python",
   "nbconvert_exporter": "python",
   "pygments_lexer": "ipython3",
   "version": "3.8.2"
  }
 },
 "nbformat": 4,
 "nbformat_minor": 2
}
