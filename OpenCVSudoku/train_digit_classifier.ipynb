{
  "nbformat": 4,
  "nbformat_minor": 0,
  "metadata": {
    "kernelspec": {
      "display_name": "Python [conda env:tf-cv]",
      "language": "python",
      "name": "conda-env-tf-cv-py"
    },
    "language_info": {
      "codemirror_mode": {
        "name": "ipython",
        "version": 3
      },
      "file_extension": ".py",
      "mimetype": "text/x-python",
      "name": "python",
      "nbconvert_exporter": "python",
      "pygments_lexer": "ipython3",
      "version": "3.7.8"
    },
    "colab": {
      "name": "train_digit_classifier.ipynb",
      "provenance": []
    }
  },
  "cells": [
    {
      "cell_type": "code",
      "metadata": {
        "id": "gPdyq7B5dW5Y",
        "outputId": "13e93cdf-6656-430a-db45-2c594a05cc85",
        "colab": {
          "base_uri": "https://localhost:8080/"
        }
      },
      "source": [
        "! python train_digit_classifier.py --model output/digit_classifier.h5"
      ],
      "execution_count": 3,
      "outputs": [
        {
          "output_type": "stream",
          "text": [
            "2020-10-31 16:25:07.734075: I tensorflow/stream_executor/platform/default/dso_loader.cc:48] Successfully opened dynamic library libcudart.so.10.1\n",
            "[INFO] accessing MNIST...\n",
            "Downloading data from https://storage.googleapis.com/tensorflow/tf-keras-datasets/mnist.npz\n",
            "11493376/11490434 [==============================] - 0s 0us/step\n",
            "tls trainLabels:  [5 0 4 ... 5 6 8] [0 0 0 0 0 1 0 0 0 0]\n",
            "[INFO] compiling model...\n",
            "2020-10-31 16:25:10.480011: I tensorflow/stream_executor/platform/default/dso_loader.cc:48] Successfully opened dynamic library libcuda.so.1\n",
            "2020-10-31 16:25:10.548448: E tensorflow/stream_executor/cuda/cuda_driver.cc:314] failed call to cuInit: CUDA_ERROR_NO_DEVICE: no CUDA-capable device is detected\n",
            "2020-10-31 16:25:10.548541: I tensorflow/stream_executor/cuda/cuda_diagnostics.cc:156] kernel driver does not appear to be running on this host (c78f79433eee): /proc/driver/nvidia/version does not exist\n",
            "2020-10-31 16:25:10.562601: I tensorflow/core/platform/profile_utils/cpu_utils.cc:104] CPU Frequency: 2249995000 Hz\n",
            "2020-10-31 16:25:10.562877: I tensorflow/compiler/xla/service/service.cc:168] XLA service 0x19b1800 initialized for platform Host (this does not guarantee that XLA will be used). Devices:\n",
            "2020-10-31 16:25:10.562912: I tensorflow/compiler/xla/service/service.cc:176]   StreamExecutor device (0): Host, Default Version\n",
            "[INFO] training network...\n",
            "Epoch 1/10\n",
            "469/469 [==============================] - 91s 193ms/step - loss: 0.7001 - accuracy: 0.7620 - val_loss: 0.0951 - val_accuracy: 0.9740\n",
            "Epoch 2/10\n",
            "469/469 [==============================] - 87s 186ms/step - loss: 0.2554 - accuracy: 0.9205 - val_loss: 0.0571 - val_accuracy: 0.9839\n",
            "Epoch 3/10\n",
            "469/469 [==============================] - 89s 190ms/step - loss: 0.1923 - accuracy: 0.9408 - val_loss: 0.0430 - val_accuracy: 0.9873\n",
            "Epoch 4/10\n",
            "469/469 [==============================] - 89s 191ms/step - loss: 0.1587 - accuracy: 0.9524 - val_loss: 0.0400 - val_accuracy: 0.9885\n",
            "Epoch 5/10\n",
            "469/469 [==============================] - 89s 190ms/step - loss: 0.1381 - accuracy: 0.9596 - val_loss: 0.0352 - val_accuracy: 0.9897\n",
            "Epoch 6/10\n",
            "469/469 [==============================] - 88s 187ms/step - loss: 0.1184 - accuracy: 0.9651 - val_loss: 0.0306 - val_accuracy: 0.9902\n",
            "Epoch 7/10\n",
            "469/469 [==============================] - 87s 186ms/step - loss: 0.1109 - accuracy: 0.9676 - val_loss: 0.0358 - val_accuracy: 0.9902\n",
            "Epoch 8/10\n",
            "469/469 [==============================] - 91s 195ms/step - loss: 0.1001 - accuracy: 0.9715 - val_loss: 0.0311 - val_accuracy: 0.9914\n",
            "Epoch 9/10\n",
            "469/469 [==============================] - 87s 186ms/step - loss: 0.0927 - accuracy: 0.9721 - val_loss: 0.0275 - val_accuracy: 0.9922\n",
            "Epoch 10/10\n",
            "469/469 [==============================] - 87s 186ms/step - loss: 0.0879 - accuracy: 0.9742 - val_loss: 0.0360 - val_accuracy: 0.9897\n",
            "[INFO] evaluating network...\n",
            "argmax:  [7 2 1 ... 4 5 6] [7 2 1 ... 4 5 6]\n",
            "              precision    recall  f1-score   support\n",
            "\n",
            "           0       0.99      1.00      0.99       980\n",
            "           1       0.99      0.99      0.99      1135\n",
            "           2       0.99      0.99      0.99      1032\n",
            "           3       0.98      1.00      0.99      1010\n",
            "           4       0.99      0.99      0.99       982\n",
            "           5       0.98      0.99      0.99       892\n",
            "           6       0.99      0.99      0.99       958\n",
            "           7       0.99      0.99      0.99      1028\n",
            "           8       0.99      0.98      0.99       974\n",
            "           9       0.99      0.97      0.98      1009\n",
            "\n",
            "    accuracy                           0.99     10000\n",
            "   macro avg       0.99      0.99      0.99     10000\n",
            "weighted avg       0.99      0.99      0.99     10000\n",
            "\n",
            "[INFO] serializing digit model...\n",
            "Traceback (most recent call last):\n",
            "  File \"train_digit_classifier.py\", line 70, in <module>\n",
            "    model.save(args[\"model\"], save_format=\"h5\") # 模型保存为参数指定的文件\n",
            "  File \"/usr/local/lib/python3.6/dist-packages/tensorflow/python/keras/engine/training.py\", line 1979, in save\n",
            "    signatures, options)\n",
            "  File \"/usr/local/lib/python3.6/dist-packages/tensorflow/python/keras/saving/save.py\", line 131, in save_model\n",
            "    model, filepath, overwrite, include_optimizer)\n",
            "  File \"/usr/local/lib/python3.6/dist-packages/tensorflow/python/keras/saving/hdf5_format.py\", line 102, in save_model_to_hdf5\n",
            "    f = h5py.File(filepath, mode='w')\n",
            "  File \"/usr/local/lib/python3.6/dist-packages/h5py/_hl/files.py\", line 408, in __init__\n",
            "    swmr=swmr)\n",
            "  File \"/usr/local/lib/python3.6/dist-packages/h5py/_hl/files.py\", line 179, in make_fid\n",
            "    fid = h5f.create(name, h5f.ACC_TRUNC, fapl=fapl, fcpl=fcpl)\n",
            "  File \"h5py/_objects.pyx\", line 54, in h5py._objects.with_phil.wrapper\n",
            "  File \"h5py/_objects.pyx\", line 55, in h5py._objects.with_phil.wrapper\n",
            "  File \"h5py/h5f.pyx\", line 108, in h5py.h5f.create\n",
            "OSError: Unable to create file (unable to open file: name = 'output/digit_classifier.h5', errno = 2, error message = 'No such file or directory', flags = 13, o_flags = 242)\n"
          ],
          "name": "stdout"
        }
      ]
    }
  ]
}