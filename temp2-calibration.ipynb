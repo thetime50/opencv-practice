{
 "cells": [
  {
   "cell_type": "code",
   "execution_count": 4,
   "metadata": {},
   "outputs": [
    {
     "name": "stdout",
     "output_type": "stream",
     "text": [
      "True\n"
     ]
    }
   ],
   "source": [
    "import cv2 as cv\n",
    "import numpy as np\n",
    "import matplotlib.pyplot as plt\n",
    "import tool\n",
    "import pylab\n",
    "import os\n",
    "\n",
    "%matplotlib inline\n",
    "pylab.rcParams['figure.figsize'] = (15.0,7.0) #调整显示大小\n",
    "tool.setGrid(1,2)\n",
    "\n",
    "class Detection:\n",
    "    def __init__(self,xml,color):\n",
    "        self.xml = xml\n",
    "        self.color = color\n",
    "        self.facesCascadc = cv.CascadeClassifier(xml)\n",
    "    def haar_execute(self,gray):\n",
    "        blocks = self.facesCascadc.detectMultiScale(\n",
    "            gray,\n",
    "            scaleFactor = 1.15,\n",
    "            minNeighbors = 5,\n",
    "            minSize = (5,5)\n",
    "        )\n",
    "        self.blocks = blocks\n",
    "        return blocks\n",
    "    def draw_blocks(self,src,copy=False):\n",
    "        dis = src\n",
    "        if(copy):\n",
    "            dis = np.array(src)\n",
    "        for (x,y,w,h) in self.blocks:\n",
    "            cv.rectangle(dis,(x,y),(x+w,y+h),self.color,2)\n",
    "        return dis\n",
    "\n",
    "# https://github.com/opencv/opencv/tree/master/data/haarcascades\n",
    "# faceDet = Detection('./tempdoc/haarcascade_profileface.xml',(255,50,50))\n",
    "faceDet = Detection('./tempdoc/haarcascade_frontalface_default.xml',(255,150,150))\n",
    "eyeDet = Detection('./tempdoc/haarcascade_eye.xml',(155,150,250))\n",
    "# leyeDet = Detection('./tempdoc/haarcascade_lefteye_2splits.xml',(155,250,250))\n",
    "# reyeDet = Detection('./tempdoc/haarcascade_righteye_2splits.xml',(255,150,250))\n",
    "# smileDet = Detection('./tempdoc/haarcascade_smile.xml',(50,50,250))\n",
    "\n",
    "def detAdd2Img(frame):\n",
    "    gray = cv.cvtColor(frame, cv.COLOR_BGR2GRAY)\n",
    "    faceDet.haar_execute(gray)\n",
    "    dis = faceDet.draw_blocks(frame)\n",
    "    eyeDet.haar_execute(gray)\n",
    "    dis = eyeDet.draw_blocks(dis)\n",
    "#     leyeDet.haar_execute(gray)\n",
    "#     dis = leyeDet.draw_blocks(dis)\n",
    "#     reyeDet.haar_execute(gray)\n",
    "#     dis = reyeDet.draw_blocks(dis)\n",
    "#     smileDet.haar_execute(gray)\n",
    "#     dis = smileDet.draw_blocks(dis)\n",
    "#     cv.imshow('frame',frame)\n",
    "#     cv.imshow('gray',gray)\n",
    "    return dis\n",
    "\n",
    "print(True)"
   ]
  },
  {
   "cell_type": "code",
   "execution_count": 1,
   "metadata": {},
   "outputs": [
    {
     "name": "stdout",
     "output_type": "stream",
     "text": [
      "\n",
      "接口: 192.168.1.189 --- 0x3\n",
      "  Internet 地址         物理地址              类型\n",
      "  192.168.1.1           58-6a-b1-ea-ed-66     动态        \n",
      "  192.168.1.7           78-44-fd-82-2d-fe     动态        \n",
      "  192.168.1.187         00-1e-67-b0-9f-c2     动态        \n",
      "  192.168.1.205         b8-97-5a-42-03-63     动态        \n",
      "  192.168.1.242         fc-aa-14-40-06-63     动态        \n",
      "  192.168.1.254         00-e2-69-08-00-12     动态        \n",
      "  192.168.1.255         ff-ff-ff-ff-ff-ff     静态        \n",
      "  224.0.0.2             01-00-5e-00-00-02     静态        \n",
      "  224.0.0.22            01-00-5e-00-00-16     静态        \n",
      "  224.0.0.251           01-00-5e-00-00-fb     静态        \n",
      "  224.0.0.252           01-00-5e-00-00-fc     静态        \n",
      "  230.0.0.1             01-00-5e-00-00-01     静态        \n",
      "  239.255.255.250       01-00-5e-7f-ff-fa     静态        \n",
      "  255.255.255.255       ff-ff-ff-ff-ff-ff     静态        \n"
     ]
    }
   ],
   "source": [
    "!arp -a"
   ]
  },
  {
   "cell_type": "code",
   "execution_count": 37,
   "metadata": {},
   "outputs": [
    {
     "name": "stdout",
     "output_type": "stream",
     "text": [
      "end\n"
     ]
    }
   ],
   "source": [
    "# https://anaconda.org/mrinaljain17/ffmpeg-python\n",
    "# https://kkroening.github.io/ffmpeg-python/\n",
    "# https://github.com/kkroening/ffmpeg-python\n",
    "## conda 的 ffmpeg-python 版本不支持 所以用pip安装了\n",
    "\n",
    "import ffmpeg\n",
    "# !conda list\n",
    "# !pip list\n",
    "width,height = 640,480\n",
    "process1 = (\n",
    "    ffmpeg\n",
    "    .input(\"rtsp://192.168.31.7:554/live\",rtsp_transport='udp')\n",
    "    .output('pipe:', format='rawvideo', pix_fmt='bgr24')\n",
    "    .run_async(pipe_stdout=True)\n",
    ")\n",
    "\n",
    "\n",
    "while True:\n",
    "    in_bytes = process1.stdout.read(width * height * 3)\n",
    "    if not in_bytes:\n",
    "        print('nodata')\n",
    "        break\n",
    "    in_frame = (\n",
    "        np\n",
    "        .frombuffer(in_bytes, np.uint8)\n",
    "        .reshape([height, width, 3])\n",
    "    )\n",
    "#     det = cv.pyrDown(in_frame)\n",
    "\n",
    "    det = in_frame\n",
    "#     det = in_frame[np.arange(0,height-1,2),:]    \n",
    "#     det = det[:,np.arange(0,width-1,2)]\n",
    "#     det = detAdd2Img(det)\n",
    "    cv.imshow(\"rtsp_udp\",det)\n",
    "#     cv.imwrite(\"rtsp_udp.jpg\",in_frame)\n",
    "    key = cv.waitKey(12)  # 延迟\n",
    "    if key & 0xFF ==27:\n",
    "        break\n",
    "\n",
    "cv.destroyAllWindows()\n",
    "# process1.wait()\n",
    "#close ??\n",
    "print('end')"
   ]
  }
 ],
 "metadata": {
  "kernelspec": {
   "display_name": "Python [conda env:opencv]",
   "language": "python",
   "name": "conda-env-opencv-py"
  },
  "language_info": {
   "codemirror_mode": {
    "name": "ipython",
    "version": 3
   },
   "file_extension": ".py",
   "mimetype": "text/x-python",
   "name": "python",
   "nbconvert_exporter": "python",
   "pygments_lexer": "ipython3",
   "version": "3.8.2"
  }
 },
 "nbformat": 4,
 "nbformat_minor": 2
}
