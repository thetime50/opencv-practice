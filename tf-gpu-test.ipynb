{
 "cells": [
  {
   "cell_type": "code",
   "execution_count": 1,
   "id": "16cf6eb5",
   "metadata": {},
   "outputs": [
    {
     "name": "stdout",
     "output_type": "stream",
     "text": [
      "nvcc: NVIDIA (R) Cuda compiler driver\n",
      "Copyright (c) 2005-2021 NVIDIA Corporation\n",
      "Built on Sun_Feb_14_22:08:44_Pacific_Standard_Time_2021\n",
      "Cuda compilation tools, release 11.2, V11.2.152\n",
      "Build cuda_11.2.r11.2/compiler.29618528_0\n",
      "////////////////\n",
      "[PhysicalDevice(name='/physical_device:GPU:0', device_type='GPU')]\n",
      "[PhysicalDevice(name='/physical_device:GPU:0', device_type='GPU')]\n",
      "/device:GPU:0\n",
      "////////////////\n",
      "Executing op MatMul in device /job:localhost/replica:0/task:0/device:GPU:0\n",
      "tf.Tensor(\n",
      "[[22. 28.]\n",
      " [49. 64.]], shape=(2, 2), dtype=float32)\n",
      "////////////////\n"
     ]
    }
   ],
   "source": [
    "!echo -e \"CUDA 版本\"\n",
    "!nvcc -V\n",
    "!echo -e \"/nCUDA Toolkit 版本\"\n",
    "!nvidia-smi\n",
    "\n",
    "print('////////////////')\n",
    "\n",
    "import tensorflow as tf\n",
    "print(tf.config.list_physical_devices('GPU'))\n",
    "print(tf.config.experimental.list_physical_devices(device_type='GPU'))\n",
    "print(tf.test.gpu_device_name())\n",
    "\n",
    "# https://www.tensorflow.org/guide/gpu#手动设备放置\n",
    "\n",
    "print('////////////////')\n",
    "tf.debugging.set_log_device_placement(True) # 打印设备分配情况\n",
    "with tf.device('/GPU:0'):\n",
    "  a = tf.constant([[1.0, 2.0, 3.0], [4.0, 5.0, 6.0]])\n",
    "  b = tf.constant([[1.0, 2.0], [3.0, 4.0], [5.0, 6.0]])\n",
    "c = tf.matmul(a, b)\n",
    "print(c)\n",
    "print('////////////////')\n",
    "        \n",
    "# %timeit c = tf.matmul(a, b)\n"
   ]
  }
 ],
 "metadata": {
  "interpreter": {
   "hash": "cf1c0e932957ebe0d7ea219ca74289926d6952389dd17f78bfbe25d0aed643b1"
  },
  "kernelspec": {
   "display_name": "Python [conda env:tfgpu-test]",
   "language": "python",
   "name": "python3"
  },
  "language_info": {
   "codemirror_mode": {
    "name": "ipython",
    "version": 3
   },
   "file_extension": ".py",
   "mimetype": "text/x-python",
   "name": "python",
   "nbconvert_exporter": "python",
   "pygments_lexer": "ipython3",
   "version": "3.10.13"
  }
 },
 "nbformat": 4,
 "nbformat_minor": 5
}
