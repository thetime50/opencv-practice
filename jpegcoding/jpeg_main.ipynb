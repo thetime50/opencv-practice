{
 "cells": [
  {
   "cell_type": "markdown",
   "id": "a0600e1a",
   "metadata": {},
   "source": [
    "## JPEG\n",
    "\n",
    "- [JPEG编解码（python实现）](https://blog.csdn.net/weixin_44862382/article/details/115531003)\n",
    "- [JPEG图片压缩的Python实现](https://blog.csdn.net/u014134327/article/details/102807264)\n",
    "- [JPEG原理详解(附python实现)](https://blog.csdn.net/qq_41137110/article/details/121724551)\n",
    "- [jpeg-python](https://github.com/ghallak/jpeg-python)\n",
    "- [一文读懂 YUV 的采样与格式](https://zhuanlan.zhihu.com/p/113122344) YUV420P YUV420SP\n",
    "- [YUV420存储为BMP和JPG图片](https://blog.csdn.net/yixianfeng41/article/details/52181578)\n",
    "\n",
    "- [PyTurboJPEG](https://github.com/lilohuang/PyTurboJPEG) py-cdll实现\n",
    "1. 分割8*8\n",
    "2. RGB->YCbCr\n",
    "3. DCT\n",
    "4. 降采样\n",
    "4. 量化过滤器\n",
    "5. zig z型编码\n",
    "6. rle 0行程编码\n",
    "\n",
    "5. Huffman编码编"
   ]
  },
  {
   "cell_type": "markdown",
   "id": "39a0ecec",
   "metadata": {},
   "source": [
    "## DCT2D\n",
    "![dct2d](./doc/img/dct2d.png)"
   ]
  },
  {
   "cell_type": "code",
   "execution_count": null,
   "id": "04e302db",
   "metadata": {},
   "outputs": [],
   "source": [
    "import numpy as np\n",
    "import cv2\n",
    "\n",
    "img = cv2.imread(\"../img/color.webp\")\n",
    "\n",
    "img = cv2.cvtColor(img,cv2.COLOR_BGR2YCrCb)\n",
    "\n",
    "\n"
   ]
  }
 ],
 "metadata": {
  "kernelspec": {
   "display_name": "tf-cv2",
   "language": "python",
   "name": "python3"
  },
  "language_info": {
   "codemirror_mode": {
    "name": "ipython",
    "version": 3
   },
   "file_extension": ".py",
   "mimetype": "text/x-python",
   "name": "python",
   "nbconvert_exporter": "python",
   "pygments_lexer": "ipython3",
   "version": "3.9.18"
  }
 },
 "nbformat": 4,
 "nbformat_minor": 5
}
