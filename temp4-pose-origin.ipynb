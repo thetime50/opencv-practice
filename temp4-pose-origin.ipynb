{
 "cells": [
  {
   "cell_type": "code",
   "execution_count": 7,
   "metadata": {
    "tags": []
   },
   "outputs": [
    {
     "output_type": "stream",
     "name": "stdout",
     "text": "['./doc/img\\\\left.jpg', './doc/img\\\\left01.jpg', './doc/img\\\\left02.jpg', './doc/img\\\\left03.jpg', './doc/img\\\\left04.jpg', './doc/img\\\\left05.jpg', './doc/img\\\\left06.jpg', './doc/img\\\\left07.jpg', './doc/img\\\\left08.jpg', './doc/img\\\\left09.jpg', './doc/img\\\\left11.jpg', './doc/img\\\\left12.jpg', './doc/img\\\\left13.jpg', './doc/img\\\\left14.jpg']\ntotal error: 0.023686000375385676\n"
    }
   ],
   "source": [
    "import numpy as np\n",
    "import cv2 as cv\n",
    "import glob\n",
    "\n",
    "# print(\"exit\")\n",
    "# exit()\n",
    "# termination criteria\n",
    "criteria = (cv.TERM_CRITERIA_EPS + cv.TERM_CRITERIA_MAX_ITER, 30, 0.001)\n",
    "# prepare object points, like (0,0,0), (1,0,0), (2,0,0) ....,(6,5,0)\n",
    "objp = np.zeros((6*7,3), np.float32)\n",
    "objp[:,:2] = np.mgrid[0:7,0:6].T.reshape(-1,2)\n",
    "# Arrays to store object points and image points from all the images.\n",
    "objpoints = [] # 3d point in real world space\n",
    "imgpoints = [] # 2d points in image plane.\n",
    "gray = []\n",
    "images = glob.glob('./doc/img/*.jpg')\n",
    "print(images)\n",
    "for fname in images:\n",
    "    img = cv.imread(fname)\n",
    "    gray = cv.cvtColor(img, cv.COLOR_BGR2GRAY)\n",
    "    # Find the chess board corners\n",
    "    ret, corners = cv.findChessboardCorners(gray, (7,6), None)\n",
    "    # If found, add object points, image points (after refining them)\n",
    "    if ret == True:\n",
    "        objpoints.append(objp)\n",
    "        corners2 = cv.cornerSubPix(gray,corners, (11,11), (-1,-1), criteria)\n",
    "        imgpoints.append(corners)\n",
    "        # Draw and display the corners\n",
    "        cv.drawChessboardCorners(img, (7,6), corners2, ret)\n",
    "        cv.imshow('img', img)\n",
    "        cv.waitKey(500)\n",
    "cv.destroyAllWindows()\n",
    "\n",
    "ret, mtx, dist, rvecs, tvecs = cv.calibrateCamera(objpoints, imgpoints, gray.shape[::-1], None, None)\n",
    "\n",
    "img = cv.imread('./doc/img/left12.jpg')\n",
    "h,  w = img.shape[:2]\n",
    "newcameramtx, roi = cv.getOptimalNewCameraMatrix(mtx, dist, (w,h), 1, (w,h))\n",
    "\n",
    "# undistort\n",
    "dst = cv.undistort(img, mtx, dist, None, newcameramtx)\n",
    "# crop the image\n",
    "x, y, w, h = roi\n",
    "dst = dst[y:y+h, x:x+w]\n",
    "cv.imwrite('./doc/img/calibresult.png', dst)\n",
    "\n",
    "# undistort\n",
    "mapx, mapy = cv.initUndistortRectifyMap(mtx, dist, None, newcameramtx, (w,h), 5)\n",
    "dst = cv.remap(img, mapx, mapy, cv.INTER_LINEAR)\n",
    "# crop the image\n",
    "x, y, w, h = roi\n",
    "dst = dst[y:y+h, x:x+w]\n",
    "cv.imwrite('./doc/img/calibresult.png', dst)\n",
    "\n",
    "mean_error = 0\n",
    "for i in range(len(objpoints)):#xrange(len(objpoints)):\n",
    "    imgpoints2, _ = cv.projectPoints(objpoints[i], rvecs[i], tvecs[i], mtx, dist)\n",
    "    error = cv.norm(imgpoints[i], imgpoints2, cv.NORM_L2)/len(imgpoints2)\n",
    "    mean_error += error\n",
    "print( \"total error: {}\".format(mean_error/len(objpoints)) )\n",
    "\n",
    "\n",
    "\n",
    "np.savez(\"./doc/img/left_intrinsics\",\n",
    "    ret, mtx, dist, rvecs, tvecs,\n",
    "    newcameramtx, roi)"
   ]
  },
  {
   "cell_type": "code",
   "execution_count": 18,
   "metadata": {
    "tags": []
   },
   "outputs": [
    {
     "output_type": "stream",
     "name": "stdout",
     "text": "loaded file from ./doc/img/left_intrinsics.npz \n 0.155369069100788 \n [[458.64099121   0.         343.09157581]\n [  0.         457.19467163 233.83376475]\n [  0.           0.           1.        ]] [ 11  22 615 438]\n"
    },
    {
     "output_type": "error",
     "ename": "NameError",
     "evalue": "name 'self' is not defined",
     "traceback": [
      "\u001b[1;31m---------------------------------------------------------------------------\u001b[0m",
      "\u001b[1;31mNameError\u001b[0m                                 Traceback (most recent call last)",
      "\u001b[1;32m<ipython-input-18-74ceb0777af3>\u001b[0m in \u001b[0;36m<module>\u001b[1;34m\u001b[0m\n\u001b[0;32m     57\u001b[0m         \u001b[1;31m# np.savetxt(\"./doc/img/left_PnP.txt\",objp, corners2, mtx, dist)\u001b[0m\u001b[1;33m\u001b[0m\u001b[1;33m\u001b[0m\u001b[1;33m\u001b[0m\u001b[0m\n\u001b[0;32m     58\u001b[0m         \u001b[1;31m# print(\"*****\",objp, corners2, mtx, dist)\u001b[0m\u001b[1;33m\u001b[0m\u001b[1;33m\u001b[0m\u001b[1;33m\u001b[0m\u001b[0m\n\u001b[1;32m---> 59\u001b[1;33m         \u001b[0mprint\u001b[0m\u001b[1;33m(\u001b[0m\u001b[1;34m\"*****\"\u001b[0m\u001b[1;33m,\u001b[0m\u001b[0mself\u001b[0m\u001b[1;33m.\u001b[0m\u001b[0mobjp\u001b[0m\u001b[1;33m,\u001b[0m\u001b[0mself\u001b[0m\u001b[1;33m.\u001b[0m\u001b[0mcorners2\u001b[0m\u001b[1;33m,\u001b[0m \u001b[0mself\u001b[0m\u001b[1;33m.\u001b[0m\u001b[0mmtx\u001b[0m\u001b[1;33m,\u001b[0m \u001b[0mself\u001b[0m\u001b[1;33m.\u001b[0m\u001b[0mdist\u001b[0m\u001b[1;33m)\u001b[0m\u001b[1;33m\u001b[0m\u001b[1;33m\u001b[0m\u001b[0m\n\u001b[0m\u001b[0;32m     60\u001b[0m         \u001b[0mret\u001b[0m\u001b[1;33m,\u001b[0m\u001b[0mrvecs\u001b[0m\u001b[1;33m,\u001b[0m \u001b[0mtvecs\u001b[0m \u001b[1;33m=\u001b[0m \u001b[0mcv\u001b[0m\u001b[1;33m.\u001b[0m\u001b[0msolvePnP\u001b[0m\u001b[1;33m(\u001b[0m\u001b[0mobjp\u001b[0m\u001b[1;33m,\u001b[0m \u001b[0mcorners2\u001b[0m\u001b[1;33m,\u001b[0m \u001b[0mmtx\u001b[0m\u001b[1;33m,\u001b[0m \u001b[0mdist\u001b[0m\u001b[1;33m)\u001b[0m\u001b[1;33m\u001b[0m\u001b[1;33m\u001b[0m\u001b[0m\n\u001b[0;32m     61\u001b[0m         \u001b[1;31m# project 3D points to image plane\u001b[0m\u001b[1;33m\u001b[0m\u001b[1;33m\u001b[0m\u001b[1;33m\u001b[0m\u001b[0m\n",
      "\u001b[1;31mNameError\u001b[0m: name 'self' is not defined"
     ]
    }
   ],
   "source": [
    "import numpy as np\n",
    "import cv2 as cv\n",
    "import glob\n",
    "# Load previously saved data\n",
    "# with np.load('./doc/img/B.npz') as X:\n",
    "#     mtx, dist, _, _ = [X[i] for i in ('mtx','dist','rvecs','tvecs')\n",
    "\n",
    "file = \"./doc/img/left_intrinsics.npz\"\n",
    "load = np.load(file)\n",
    "# print(dir(load),load.files)\n",
    "\n",
    "ret = load['arr_0']\n",
    "mtx = load['arr_1']\n",
    "dist = load['arr_2']\n",
    "rvecs = load['arr_3']\n",
    "tvecs = load['arr_4']\n",
    "newcameramtx = load['arr_5']\n",
    "roi = load['arr_6']\n",
    "print(\"loaded file from\",file,'\\n', ret,'\\n',newcameramtx,roi)\n",
    "\n",
    "def draw(img, corners, imgpts):\n",
    "    corner = tuple(corners[0].ravel())\n",
    "    img = cv.line(img, corner, tuple(imgpts[0].ravel()), (255,0,0), 5)\n",
    "    img = cv.line(img, corner, tuple(imgpts[1].ravel()), (0,255,0), 5)\n",
    "    img = cv.line(img, corner, tuple(imgpts[2].ravel()), (0,0,255), 5)\n",
    "    return img\n",
    "\n",
    "## \n",
    "def drawCube(img, corners, imgpts):\n",
    "    imgpts = np.int32(imgpts).reshape(-1,2)\n",
    "    # draw ground floor in green\n",
    "    img = cv.drawContours(img, [imgpts[:4]],-1,(0,255,0),-3)\n",
    "    # draw pillars in blue color\n",
    "    for i,j in zip(range(4),range(4,8)):\n",
    "        img = cv.line(img, tuple(imgpts[i]), tuple(imgpts[j]),(255),3)\n",
    "    # draw top layer in red color\n",
    "    img = cv.drawContours(img, [imgpts[4:]],-1,(0,0,255),3)\n",
    "    return img\n",
    "\n",
    "axis = np.float32([[0,0,0], [0,3,0], [3,3,0], [3,0,0],\n",
    "                   [0,0,-3],[0,3,-3],[3,3,-3],[3,0,-3] ])\n",
    "##\n",
    "\n",
    "\n",
    "criteria = (cv.TERM_CRITERIA_EPS + cv.TERM_CRITERIA_MAX_ITER, 30, 0.001)\n",
    "objp = np.zeros((6*7,3), np.float32)\n",
    "objp[:,:2] = np.mgrid[0:7,0:6].T.reshape(-1,2)\n",
    "axis = np.float32([[3,0,0], [0,3,0], [0,0,-3]]).reshape(-1,3)\n",
    "\n",
    "for fname in glob.glob('./doc/img/left*.jpg'):\n",
    "    img = cv.imread(fname)\n",
    "    gray = cv.cvtColor(img,cv.COLOR_BGR2GRAY)\n",
    "    ret, corners = cv.findChessboardCorners(gray, (7,6),None)\n",
    "    if ret == True:\n",
    "        corners2 = cv.cornerSubPix(gray,corners,(11,11),(-1,-1),criteria)\n",
    "        # Find the rotation and translation vectors.\n",
    "        # np.savetxt(\"./doc/img/left_PnP.txt\",objp, corners2, mtx, dist)\n",
    "        # print(\"*****\",objp, corners2, mtx, dist)\n",
    "        print(\"*****\",objp.shape, corners2.shape, mtx.shape, dist.shape)\n",
    "        ret,rvecs, tvecs = cv.solvePnP(objp, corners2, mtx, dist)\n",
    "        # project 3D points to image plane\n",
    "        imgpts, jac = cv.projectPoints(axis, rvecs, tvecs, mtx, dist)\n",
    "        img = draw(img,corners2,imgpts)\n",
    "        cv.imshow('img',img)\n",
    "        k = cv.waitKey(0) & 0xFF\n",
    "        if k == ord('s'):\n",
    "            cv.imwrite(\"./doc/img/\"+fname[:6]+'.png', img)\n",
    "        break\n",
    "cv.destroyAllWindows()"
   ]
  },
  {
   "cell_type": "code",
   "execution_count": 12,
   "metadata": {},
   "outputs": [
    {
     "output_type": "execute_result",
     "data": {
      "text/plain": "'1.18.1'"
     },
     "metadata": {},
     "execution_count": 12
    }
   ],
   "source": [
    "np.__version__\n",
    "# ?np.load"
   ]
  }
 ],
 "metadata": {
  "kernelspec": {
   "display_name": "Python 3.8.2 64-bit ('opencv': conda)",
   "language": "python",
   "name": "python38264bitopencvcondaf8e25ba750324c03822601bb64b1caae"
  },
  "language_info": {
   "codemirror_mode": {
    "name": "ipython",
    "version": 3
   },
   "file_extension": ".py",
   "mimetype": "text/x-python",
   "name": "python",
   "nbconvert_exporter": "python",
   "pygments_lexer": "ipython3",
   "version": "3.8.2-final"
  }
 },
 "nbformat": 4,
 "nbformat_minor": 4
}