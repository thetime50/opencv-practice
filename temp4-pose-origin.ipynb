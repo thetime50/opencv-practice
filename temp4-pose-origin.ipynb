{
 "cells": [
  {
   "cell_type": "code",
   "execution_count": 7,
   "metadata": {
    "tags": []
   },
   "outputs": [
    {
     "output_type": "stream",
     "name": "stdout",
     "text": "['./doc/img\\\\left.jpg', './doc/img\\\\left01.jpg', './doc/img\\\\left02.jpg', './doc/img\\\\left03.jpg', './doc/img\\\\left04.jpg', './doc/img\\\\left05.jpg', './doc/img\\\\left06.jpg', './doc/img\\\\left07.jpg', './doc/img\\\\left08.jpg', './doc/img\\\\left09.jpg', './doc/img\\\\left11.jpg', './doc/img\\\\left12.jpg', './doc/img\\\\left13.jpg', './doc/img\\\\left14.jpg']\ntotal error: 0.023686000375385676\n"
    }
   ],
   "source": [
    "import numpy as np\n",
    "import cv2 as cv\n",
    "import glob\n",
    "\n",
    "# print(\"exit\")\n",
    "# exit()\n",
    "# termination criteria\n",
    "criteria = (cv.TERM_CRITERIA_EPS + cv.TERM_CRITERIA_MAX_ITER, 30, 0.001)\n",
    "# prepare object points, like (0,0,0), (1,0,0), (2,0,0) ....,(6,5,0)\n",
    "objp = np.zeros((6*7,3), np.float32)\n",
    "objp[:,:2] = np.mgrid[0:7,0:6].T.reshape(-1,2)\n",
    "# Arrays to store object points and image points from all the images.\n",
    "objpoints = [] # 3d point in real world space\n",
    "imgpoints = [] # 2d points in image plane.\n",
    "gray = []\n",
    "images = glob.glob('./doc/img/*.jpg')\n",
    "print(images)\n",
    "for fname in images:\n",
    "    img = cv.imread(fname)\n",
    "    gray = cv.cvtColor(img, cv.COLOR_BGR2GRAY)\n",
    "    # Find the chess board corners\n",
    "    ret, corners = cv.findChessboardCorners(gray, (7,6), None)\n",
    "    # If found, add object points, image points (after refining them)\n",
    "    if ret == True:\n",
    "        objpoints.append(objp)\n",
    "        corners2 = cv.cornerSubPix(gray,corners, (11,11), (-1,-1), criteria)\n",
    "        imgpoints.append(corners)\n",
    "        # Draw and display the corners\n",
    "        cv.drawChessboardCorners(img, (7,6), corners2, ret)\n",
    "        cv.imshow('img', img)\n",
    "        cv.waitKey(500)\n",
    "cv.destroyAllWindows()\n",
    "\n",
    "ret, mtx, dist, rvecs, tvecs = cv.calibrateCamera(objpoints, imgpoints, gray.shape[::-1], None, None)\n",
    "\n",
    "img = cv.imread('./doc/img/left12.jpg')\n",
    "h,  w = img.shape[:2]\n",
    "newcameramtx, roi = cv.getOptimalNewCameraMatrix(mtx, dist, (w,h), 1, (w,h))\n",
    "\n",
    "# undistort\n",
    "dst = cv.undistort(img, mtx, dist, None, newcameramtx)\n",
    "# crop the image\n",
    "x, y, w, h = roi\n",
    "dst = dst[y:y+h, x:x+w]\n",
    "cv.imwrite('./doc/img/calibresult.png', dst)\n",
    "\n",
    "# undistort\n",
    "mapx, mapy = cv.initUndistortRectifyMap(mtx, dist, None, newcameramtx, (w,h), 5)\n",
    "dst = cv.remap(img, mapx, mapy, cv.INTER_LINEAR)\n",
    "# crop the image\n",
    "x, y, w, h = roi\n",
    "dst = dst[y:y+h, x:x+w]\n",
    "cv.imwrite('./doc/img/calibresult.png', dst)\n",
    "\n",
    "mean_error = 0\n",
    "for i in range(len(objpoints)):#xrange(len(objpoints)):\n",
    "    imgpoints2, _ = cv.projectPoints(objpoints[i], rvecs[i], tvecs[i], mtx, dist)\n",
    "    error = cv.norm(imgpoints[i], imgpoints2, cv.NORM_L2)/len(imgpoints2)\n",
    "    mean_error += error\n",
    "print( \"total error: {}\".format(mean_error/len(objpoints)) )\n",
    "\n",
    "\n",
    "\n",
    "np.savez(\"./doc/img/left_intrinsics\",\n",
    "    ret, mtx, dist, rvecs, tvecs,\n",
    "    newcameramtx, roi)"
   ]
  },
  {
   "cell_type": "code",
   "execution_count": 10,
   "metadata": {},
   "outputs": [
    {
     "output_type": "error",
     "ename": "NameError",
     "evalue": "name 'self' is not defined",
     "traceback": [
      "\u001b[1;31m---------------------------------------------------------------------------\u001b[0m",
      "\u001b[1;31mNameError\u001b[0m                                 Traceback (most recent call last)",
      "\u001b[1;32m<ipython-input-10-8a7deb07cdbe>\u001b[0m in \u001b[0;36m<module>\u001b[1;34m\u001b[0m\n\u001b[0;32m     17\u001b[0m \u001b[0mnewcameramtx\u001b[0m \u001b[1;33m=\u001b[0m \u001b[0mload\u001b[0m\u001b[1;33m[\u001b[0m\u001b[1;34m'arr_5'\u001b[0m\u001b[1;33m]\u001b[0m\u001b[1;33m\u001b[0m\u001b[1;33m\u001b[0m\u001b[0m\n\u001b[0;32m     18\u001b[0m \u001b[0mroi\u001b[0m \u001b[1;33m=\u001b[0m \u001b[0mload\u001b[0m\u001b[1;33m[\u001b[0m\u001b[1;34m'arr_6'\u001b[0m\u001b[1;33m]\u001b[0m\u001b[1;33m\u001b[0m\u001b[1;33m\u001b[0m\u001b[0m\n\u001b[1;32m---> 19\u001b[1;33m \u001b[0mprint\u001b[0m\u001b[1;33m(\u001b[0m\u001b[1;34m\"loaded file from\"\u001b[0m\u001b[1;33m,\u001b[0m\u001b[0mfile\u001b[0m\u001b[1;33m,\u001b[0m\u001b[1;34m'\\n'\u001b[0m\u001b[1;33m,\u001b[0m \u001b[0mself\u001b[0m\u001b[1;33m.\u001b[0m\u001b[0mret\u001b[0m\u001b[1;33m,\u001b[0m\u001b[1;34m'\\n'\u001b[0m\u001b[1;33m,\u001b[0m\u001b[0mself\u001b[0m\u001b[1;33m.\u001b[0m\u001b[0mnewcameramtx\u001b[0m\u001b[1;33m,\u001b[0m\u001b[0mself\u001b[0m\u001b[1;33m.\u001b[0m\u001b[0mroi\u001b[0m\u001b[1;33m)\u001b[0m\u001b[1;33m\u001b[0m\u001b[1;33m\u001b[0m\u001b[0m\n\u001b[0m\u001b[0;32m     20\u001b[0m \u001b[1;33m\u001b[0m\u001b[0m\n\u001b[0;32m     21\u001b[0m \u001b[1;32mdef\u001b[0m \u001b[0mdraw\u001b[0m\u001b[1;33m(\u001b[0m\u001b[0mimg\u001b[0m\u001b[1;33m,\u001b[0m \u001b[0mcorners\u001b[0m\u001b[1;33m,\u001b[0m \u001b[0mimgpts\u001b[0m\u001b[1;33m)\u001b[0m\u001b[1;33m:\u001b[0m\u001b[1;33m\u001b[0m\u001b[1;33m\u001b[0m\u001b[0m\n",
      "\u001b[1;31mNameError\u001b[0m: name 'self' is not defined"
     ]
    }
   ],
   "source": [
    "import numpy as np\n",
    "import cv2 as cv\n",
    "import glob\n",
    "# Load previously saved data\n",
    "# with np.load('./doc/img/B.npz') as X:\n",
    "#     mtx, dist, _, _ = [X[i] for i in ('mtx','dist','rvecs','tvecs')\n",
    "\n",
    "file = \"./doc/img/left_intrinsics.npz\"\n",
    "load = np.load(file)\n",
    "# print(dir(load),load.files)\n",
    "\n",
    "ret = load['arr_0']\n",
    "mtx = load['arr_1']\n",
    "dist = load['arr_2']\n",
    "rvecs = load['arr_3']\n",
    "tvecs = load['arr_4']\n",
    "newcameramtx = load['arr_5']\n",
    "roi = load['arr_6']\n",
    "print(\"loaded file from\",file,'\\n', ret,'\\n',newcameramtx,roi)\n",
    "\n",
    "def draw(img, corners, imgpts):\n",
    "    corner = tuple(corners[0].ravel())\n",
    "    img = cv.line(img, corner, tuple(imgpts[0].ravel()), (255,0,0), 5)\n",
    "    img = cv.line(img, corner, tuple(imgpts[1].ravel()), (0,255,0), 5)\n",
    "    img = cv.line(img, corner, tuple(imgpts[2].ravel()), (0,0,255), 5)\n",
    "    return img\n",
    "\n",
    "## \n",
    "def drawCube(img, corners, imgpts):\n",
    "    imgpts = np.int32(imgpts).reshape(-1,2)\n",
    "    # draw ground floor in green\n",
    "    img = cv.drawContours(img, [imgpts[:4]],-1,(0,255,0),-3)\n",
    "    # draw pillars in blue color\n",
    "    for i,j in zip(range(4),range(4,8)):\n",
    "        img = cv.line(img, tuple(imgpts[i]), tuple(imgpts[j]),(255),3)\n",
    "    # draw top layer in red color\n",
    "    img = cv.drawContours(img, [imgpts[4:]],-1,(0,0,255),3)\n",
    "    return img\n",
    "\n",
    "axis = np.float32([[0,0,0], [0,3,0], [3,3,0], [3,0,0],\n",
    "                   [0,0,-3],[0,3,-3],[3,3,-3],[3,0,-3] ])\n",
    "##\n",
    "\n",
    "\n",
    "criteria = (cv.TERM_CRITERIA_EPS + cv.TERM_CRITERIA_MAX_ITER, 30, 0.001)\n",
    "objp = np.zeros((6*7,3), np.float32)\n",
    "objp[:,:2] = np.mgrid[0:7,0:6].T.reshape(-1,2)\n",
    "axis = np.float32([[3,0,0], [0,3,0], [0,0,-3]]).reshape(-1,3)\n",
    "\n",
    "for fname in glob.glob('./doc/img/left*.jpg'):\n",
    "    img = cv.imread(fname)\n",
    "    gray = cv.cvtColor(img,cv.COLOR_BGR2GRAY)\n",
    "    ret, corners = cv.findChessboardCorners(gray, (7,6),None)\n",
    "    if ret == True:\n",
    "        corners2 = cv.cornerSubPix(gray,corners,(11,11),(-1,-1),criteria)\n",
    "        # Find the rotation and translation vectors.\n",
    "        ret,rvecs, tvecs = cv.solvePnP(objp, corners2, mtx, dist)\n",
    "        # project 3D points to image plane\n",
    "        imgpts, jac = cv.projectPoints(axis, rvecs, tvecs, mtx, dist)\n",
    "        img = draw(img,corners2,imgpts)\n",
    "        cv.imshow('img',img)\n",
    "        k = cv.waitKey(0) & 0xFF\n",
    "        if k == ord('s'):\n",
    "            cv.imwrite(\"./doc/img/\"+fname[:6]+'.png', img)\n",
    "        break\n",
    "cv.destroyAllWindows()"
   ]
  },
  {
   "cell_type": "code",
   "execution_count": 5,
   "metadata": {},
   "outputs": [
    {
     "output_type": "stream",
     "text": "\u001b[1;31mSignature:\u001b[0m\n\u001b[0mnp\u001b[0m\u001b[1;33m.\u001b[0m\u001b[0mload\u001b[0m\u001b[1;33m(\u001b[0m\u001b[1;33m\n\u001b[0m    \u001b[0mfile\u001b[0m\u001b[1;33m,\u001b[0m\u001b[1;33m\n\u001b[0m    \u001b[0mmmap_mode\u001b[0m\u001b[1;33m=\u001b[0m\u001b[1;32mNone\u001b[0m\u001b[1;33m,\u001b[0m\u001b[1;33m\n\u001b[0m    \u001b[0mallow_pickle\u001b[0m\u001b[1;33m=\u001b[0m\u001b[1;32mFalse\u001b[0m\u001b[1;33m,\u001b[0m\u001b[1;33m\n\u001b[0m    \u001b[0mfix_imports\u001b[0m\u001b[1;33m=\u001b[0m\u001b[1;32mTrue\u001b[0m\u001b[1;33m,\u001b[0m\u001b[1;33m\n\u001b[0m    \u001b[0mencoding\u001b[0m\u001b[1;33m=\u001b[0m\u001b[1;34m'ASCII'\u001b[0m\u001b[1;33m,\u001b[0m\u001b[1;33m\n\u001b[0m\u001b[1;33m)\u001b[0m\u001b[1;33m\u001b[0m\u001b[1;33m\u001b[0m\u001b[0m\n\u001b[1;31mDocstring:\u001b[0m\nLoad arrays or pickled objects from ``.npy``, ``.npz`` or pickled files.\n\n.. warning:: Loading files that contain object arrays uses the ``pickle``\n             module, which is not secure against erroneous or maliciously\n             constructed data. Consider passing ``allow_pickle=False`` to\n             load data that is known not to contain object arrays for the\n             safer handling of untrusted sources.\n\nParameters\n----------\nfile : file-like object, string, or pathlib.Path\n    The file to read. File-like objects must support the\n    ``seek()`` and ``read()`` methods. Pickled files require that the\n    file-like object support the ``readline()`` method as well.\nmmap_mode : {None, 'r+', 'r', 'w+', 'c'}, optional\n    If not None, then memory-map the file, using the given mode (see\n    `numpy.memmap` for a detailed description of the modes).  A\n    memory-mapped array is kept on disk. However, it can be accessed\n    and sliced like any ndarray.  Memory mapping is especially useful\n    for accessing small fragments of large files without reading the\n    entire file into memory.\nallow_pickle : bool, optional\n    Allow loading pickled object arrays stored in npy files. Reasons for\n    disallowing pickles include security, as loading pickled data can\n    execute arbitrary code. If pickles are disallowed, loading object\n    arrays will fail. Default: False\n\n    .. versionchanged:: 1.16.3\n        Made default False in response to CVE-2019-6446.\n\nfix_imports : bool, optional\n    Only useful when loading Python 2 generated pickled files on Python 3,\n    which includes npy/npz files containing object arrays. If `fix_imports`\n    is True, pickle will try to map the old Python 2 names to the new names\n    used in Python 3.\nencoding : str, optional\n    What encoding to use when reading Python 2 strings. Only useful when\n    loading Python 2 generated pickled files in Python 3, which includes\n    npy/npz files containing object arrays. Values other than 'latin1',\n    'ASCII', and 'bytes' are not allowed, as they can corrupt numerical\n    data. Default: 'ASCII'\n\nReturns\n-------\nresult : array, tuple, dict, etc.\n    Data stored in the file. For ``.npz`` files, the returned instance\n    of NpzFile class must be closed to avoid leaking file descriptors.\n\nRaises\n------\nIOError\n    If the input file does not exist or cannot be read.\nValueError\n    The file contains an object array, but allow_pickle=False given.\n\nSee Also\n--------\nsave, savez, savez_compressed, loadtxt\nmemmap : Create a memory-map to an array stored in a file on disk.\nlib.format.open_memmap : Create or load a memory-mapped ``.npy`` file.\n\nNotes\n-----\n- If the file contains pickle data, then whatever object is stored\n  in the pickle is returned.\n- If the file is a ``.npy`` file, then a single array is returned.\n- If the file is a ``.npz`` file, then a dictionary-like object is\n  returned, containing ``{filename: array}`` key-value pairs, one for\n  each file in the archive.\n- If the file is a ``.npz`` file, the returned value supports the\n  context manager protocol in a similar fashion to the open function::\n\n    with load('foo.npz') as data:\n        a = data['a']\n\n  The underlying file descriptor is closed when exiting the 'with'\n  block.\n\nExamples\n--------\nStore data to disk, and load it again:\n\n>>> np.save('/tmp/123', np.array([[1, 2, 3], [4, 5, 6]]))\n>>> np.load('/tmp/123.npy')\narray([[1, 2, 3],\n       [4, 5, 6]])\n\nStore compressed data to disk, and load it again:\n\n>>> a=np.array([[1, 2, 3], [4, 5, 6]])\n>>> b=np.array([1, 2])\n>>> np.savez('/tmp/123.npz', a=a, b=b)\n>>> data = np.load('/tmp/123.npz')\n>>> data['a']\narray([[1, 2, 3],\n       [4, 5, 6]])\n>>> data['b']\narray([1, 2])\n>>> data.close()\n\nMem-map the stored array, and then access the second row\ndirectly from disk:\n\n>>> X = np.load('/tmp/123.npy', mmap_mode='r')\n>>> X[1, :]\nmemmap([4, 5, 6])\n\u001b[1;31mFile:\u001b[0m      e:\\programdata\\anaconda3\\envs\\opencv\\lib\\site-packages\\numpy\\lib\\npyio.py\n\u001b[1;31mType:\u001b[0m      function\n"
    }
   ],
   "source": [
    "np.__version__\n",
    "?np.load"
   ]
  }
 ],
 "metadata": {
  "kernelspec": {
   "display_name": "Python 3.8.2 64-bit ('opencv': conda)",
   "language": "python",
   "name": "python38264bitopencvcondaf8e25ba750324c03822601bb64b1caae"
  },
  "language_info": {
   "codemirror_mode": {
    "name": "ipython",
    "version": 3
   },
   "file_extension": ".py",
   "mimetype": "text/x-python",
   "name": "python",
   "nbconvert_exporter": "python",
   "pygments_lexer": "ipython3",
   "version": "3.8.2-final"
  }
 },
 "nbformat": 4,
 "nbformat_minor": 4
}