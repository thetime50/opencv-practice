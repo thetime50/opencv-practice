{
 "cells": [
  {
   "cell_type": "code",
   "execution_count": 10,
   "metadata": {},
   "outputs": [
    {
     "name": "stdout",
     "output_type": "stream",
     "text": [
      "hello\n",
      "# conda environments:\n",
      "#\n",
      "base                  *  E:\\ProgramData\\Anaconda3\n",
      "manim                    E:\\ProgramData\\Anaconda3\\envs\\manim\n",
      "opencv                   E:\\ProgramData\\Anaconda3\\envs\\opencv\n",
      "\n",
      "['hello'] <class 'IPython.utils.text.SList'>\n"
     ]
    },
    {
     "data": {
      "text/plain": [
       "'3.4.3'"
      ]
     },
     "execution_count": 10,
     "metadata": {},
     "output_type": "execute_result"
    }
   ],
   "source": [
    "import cv2 as cv\n",
    "import os\n",
    "\n",
    "# os.system('echo hello')\n",
    "# os.system('conda info --envs')\n",
    "\n",
    "!echo hello\n",
    "!conda info --envs\n",
    "\n",
    "a=!echo hello\n",
    "\n",
    "print(a,type(a))\n",
    "cv.__version__"
   ]
  }
 ],
 "metadata": {
  "kernelspec": {
   "display_name": "Python 3",
   "language": "python",
   "name": "python3"
  },
  "language_info": {
   "codemirror_mode": {
    "name": "ipython",
    "version": 3
   },
   "file_extension": ".py",
   "mimetype": "text/x-python",
   "name": "python",
   "nbconvert_exporter": "python",
   "pygments_lexer": "ipython3",
   "version": "3.6.7"
  }
 },
 "nbformat": 4,
 "nbformat_minor": 2
}
