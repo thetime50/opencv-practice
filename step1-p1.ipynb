{
 "cells": [
  {
   "cell_type": "markdown",
   "metadata": {},
   "source": [
    "## P1 OpenCV简介\n",
    "\n",
    "[OpenCV-Python Tutorials](https://docs.opencv.org/master/d6/d00/tutorial_py_root.html)\n",
    "\n",
    "## P2 课程框架\n",
    "\n",
    "- Introduction to OpenCV 介绍\n",
    "- Gui Features in OpenCV GUI特性\n",
    "- Core Operations 核心处理\n",
    "- Image Processing in OpenCV 图像处理\n",
    "- Feature Detection and Description 特征检测 识别\n",
    "- Video analysis (video module) 视频分析\n",
    "- Camera Calibration and 3D Reconstruction 相机校正 3D还原\n",
    "- Machine Learning 机器学习\n",
    "- Computational Photography 计算机图像处理\n",
    "- Object Detection (objdetect module) 目标检测\n",
    "- OpenCV-Python Bindings 绑定\n",
    "\n",
    "## P3 图像读取显示和存储\n"
   ]
  },
  {
   "cell_type": "code",
   "execution_count": 1,
   "metadata": {
    "tags": [
     "outputPrepend"
    ]
   },
   "outputs": [
    {
     "name": "stdout",
     "output_type": "stream",
     "text": [
      "4.0.1\n",
      "<class 'numpy.ndarray'> (512, 512)\n",
      "<class 'numpy.ndarray'> (512, 512, 3)\n",
      "<class 'numpy.ndarray'> (512, 512, 4)\n",
      "<class 'NoneType'> None\n"
     ]
    },
    {
     "data": {
      "image/png": "[encoded data removed]",
      "text/plain": [
       "<Figure size 432x288 with 3 Axes>"
      ]
     },
     "metadata": {
      "needs_background": "light"
     },
     "output_type": "display_data"
    },
    {
     "name": "stdout",
     "output_type": "stream",
     "text": [
      "True\n"
     ]
    }
   ],
   "source": [
    "import cv2 as cv\n",
    "import matplotlib.pyplot as plt\n",
    "# 行内显示\n",
    "%matplotlib inline\n",
    "\n",
    "print(cv.__version__)\n",
    "img1 = cv.imread('./img/opencv-logo.png',0)# 灰色\n",
    "img2 = cv.imread('./img/opencv-logo.png',1)# 彩色\n",
    "img3 = cv.imread('./img/opencv-logo.png',-1)#含透明通道\n",
    "imgerr = cv.imread('./img/err',-1)#含透明通道\n",
    "\n",
    "print(type(img1),img1.shape)\n",
    "print(type(img2),img2.shape)\n",
    "print(type(img3),img3.shape)\n",
    "print(type(imgerr),imgerr)\n",
    "\n",
    "# cv.imshow('image1',img1)# \n",
    "# cv.waitKey(0)# 迭代按键 永久\n",
    "# cv.destroyAllWindows()# 关闭窗口\n",
    "\n",
    "# # cv.WINDOW_AUTOSIZE 自动大小\n",
    "# # cv.WINDOW_NORMAL 可调整窗口大小\n",
    "# cv.namedWindow('opencv-logo',cv.WINDOW_NORMAL)\n",
    "# cv.imshow('opencv-logo',img2) # 名字要一样\n",
    "# k = cv.waitKey(3000)# 这里是毫秒 超时返回-1\n",
    "# print(k)\n",
    "# cv.destroyAllWindows()\n",
    "\n",
    "# vc.imread颜色顺序是GBR plt里是颜色顺序是RGB\n",
    "img1 = cv.cvtColor(img1,cv.COLOR_BGR2RGB)\n",
    "img2 = cv.cvtColor(img2,cv.COLOR_BGR2RGB)\n",
    "img3 = cv.cvtColor(img3,cv.COLOR_BGR2RGB)\n",
    "plt.subplot(131)\n",
    "plt.imshow(img1)\n",
    "plt.subplot(132)\n",
    "plt.imshow(img2)\n",
    "plt.subplot(133)\n",
    "plt.imshow(img3)\n",
    "plt.show()\n",
    "\n",
    "print(cv.imwrite(\"./img/cv_img3.png\",img3))\n"
   ]
  },
  {
   "cell_type": "markdown",
   "metadata": {},
   "source": [
    "## P4 补充说明waitKey与ord\n"
   ]
  },
  {
   "cell_type": "code",
   "execution_count": 2,
   "metadata": {},
   "outputs": [
    {
     "name": "stdout",
     "output_type": "stream",
     "text": [
      "115\n"
     ]
    }
   ],
   "source": [
    "import cv2 as cv\n",
    "\n",
    "img1 = cv.imread('./img/opencv-logo.png',0)\n",
    "cv.imshow('img1',img1)\n",
    "while True:\n",
    "    k = cv.waitKey(0) & 0xff\n",
    "    print(k)\n",
    "    if k == 27: # esc 退出\n",
    "        break\n",
    "    elif k == ord('s'): # 's'保存\n",
    "        cv.imwrite(\"./img/cv_img1.png\",img1)\n",
    "        break\n",
    "    \n",
    "cv.destroyAllWindows()\n",
    "\n",
    "#显示使用信息\n",
    "ord?"
   ]
  }
 ],
 "metadata": {
  "kernelspec": {
   "display_name": "Python 3.8.2 64-bit ('opencv': conda)",
   "language": "python",
   "name": "python38264bitopencvcondaf8e25ba750324c03822601bb64b1caae"
  },
  "language_info": {
   "codemirror_mode": {
    "name": "ipython",
    "version": 3
   },
   "file_extension": ".py",
   "mimetype": "text/x-python",
   "name": "python",
   "nbconvert_exporter": "python",
   "pygments_lexer": "ipython3",
   "version": "3.8.2"
  }
 },
 "nbformat": 4,
 "nbformat_minor": 4
}
