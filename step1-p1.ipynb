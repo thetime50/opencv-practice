{
 "cells": [
  {
   "cell_type": "markdown",
   "metadata": {},
   "source": [
    "## P1 OpenCV简介\n",
    "\n",
    "[OpenCV-Python Tutorials](https://docs.opencv.org/master/d6/d00/tutorial_py_root.html)\n",
    "\n",
    "tool:\n",
    "- [numpy](https://numpy.org/devdocs/reference/index.html)\n",
    "\n",
    "## P2 课程框架\n",
    "\n",
    "- Introduction to OpenCV 介绍\n",
    "- Gui Features in OpenCV GUI特性\n",
    "- Core Operations 核心处理\n",
    "- Image Processing in OpenCV 图像处理\n",
    "- Feature Detection and Description 特征检测 识别\n",
    "- Video analysis (video module) 视频分析\n",
    "- Camera Calibration and 3D Reconstruction 相机校正 3D还原\n",
    "- Machine Learning 机器学习\n",
    "- Computational Photography 计算机图像处理\n",
    "- Object Detection (objdetect module) 目标检测\n",
    "- OpenCV-Python Bindings 绑定\n",
    "\n",
    "## P3 图像读取显示和存储\n"
   ]
  },
  {
   "cell_type": "code",
   "execution_count": 1,
   "metadata": {
    "tags": [
     "outputPrepend"
    ]
   },
   "outputs": [
    {
     "name": "stdout",
     "output_type": "stream",
     "text": [
      "4.0.1\n",
      "<class 'numpy.ndarray'> (512, 512)\n",
      "<class 'numpy.ndarray'> (512, 512, 3)\n",
      "<class 'numpy.ndarray'> (512, 512, 4)\n",
      "<class 'NoneType'> None\n"
     ]
    },
    {
     "data": {
      "image/png": "[encoded data removed]",
      "text/plain": [
       "<Figure size 432x288 with 3 Axes>"
      ]
     },
     "metadata": {
      "needs_background": "light"
     },
     "output_type": "display_data"
    },
    {
     "name": "stdout",
     "output_type": "stream",
     "text": [
      "True\n"
     ]
    }
   ],
   "source": [
    "import cv2 as cv\n",
    "import matplotlib.pyplot as plt\n",
    "# 行内显示\n",
    "%matplotlib inline\n",
    "\n",
    "print(cv.__version__)\n",
    "img1 = cv.imread('./img/opencv-logo.png',0)# 灰色\n",
    "img2 = cv.imread('./img/opencv-logo.png',1)# 彩色\n",
    "img3 = cv.imread('./img/opencv-logo.png',-1)#含透明通道\n",
    "imgerr = cv.imread('./img/err',-1)#含透明通道\n",
    "\n",
    "print(type(img1),img1.shape)\n",
    "print(type(img2),img2.shape)\n",
    "print(type(img3),img3.shape)\n",
    "print(type(imgerr),imgerr)\n",
    "\n",
    "# cv.imshow('image1',img1)# \n",
    "# cv.waitKey(0)# 迭代按键 永久\n",
    "# cv.destroyAllWindows()# 关闭窗口\n",
    "\n",
    "# # cv.WINDOW_AUTOSIZE 自动大小\n",
    "# # cv.WINDOW_NORMAL 可调整窗口大小\n",
    "# cv.namedWindow('opencv-logo',cv.WINDOW_NORMAL)\n",
    "# cv.imshow('opencv-logo',img2) # 名字要一样\n",
    "# k = cv.waitKey(3000)# 这里是毫秒 超时返回-1\n",
    "# print(k)\n",
    "# cv.destroyAllWindows()\n",
    "\n",
    "# vc.imread颜色顺序是GBR plt里是颜色顺序是RGB\n",
    "img1 = cv.cvtColor(img1,cv.COLOR_BGR2RGB)\n",
    "img2 = cv.cvtColor(img2,cv.COLOR_BGR2RGB)\n",
    "img3 = cv.cvtColor(img3,cv.COLOR_BGR2RGB)\n",
    "plt.subplot(131)\n",
    "plt.imshow(img1)\n",
    "plt.subplot(132)\n",
    "plt.imshow(img2)\n",
    "plt.subplot(133)\n",
    "plt.imshow(img3)\n",
    "plt.show()\n",
    "\n",
    "print(cv.imwrite(\"./img/cv_img3.png\",img3))\n"
   ]
  },
  {
   "cell_type": "markdown",
   "metadata": {},
   "source": [
    "## P4 补充说明waitKey与ord\n"
   ]
  },
  {
   "cell_type": "code",
   "execution_count": 2,
   "metadata": {},
   "outputs": [
    {
     "name": "stdout",
     "output_type": "stream",
     "text": [
      "115\n"
     ]
    }
   ],
   "source": [
    "import cv2 as cv\n",
    "\n",
    "img1 = cv.imread('./img/opencv-logo.png',0)\n",
    "cv.imshow('img1',img1)\n",
    "while True:\n",
    "    k = cv.waitKey(0) & 0xff\n",
    "    print(k)\n",
    "    if k == 27: # esc 退出\n",
    "        break\n",
    "    elif k == ord('s'): # 's'保存\n",
    "        cv.imwrite(\"./img/cv_img1.png\",img1)\n",
    "        break\n",
    "    \n",
    "cv.destroyAllWindows()\n",
    "\n",
    "#显示使用信息\n",
    "ord?"
   ]
  },
  {
   "cell_type": "markdown",
   "metadata": {},
   "source": [
    "## P5 绘图函数"
   ]
  },
  {
   "cell_type": "code",
   "execution_count": 32,
   "metadata": {},
   "outputs": [
    {
     "output_type": "display_data",
     "data": {
      "text/plain": "<Figure size 432x288 with 2 Axes>",
      "image/svg+xml": "<?xml version=\"1.0\" encoding=\"utf-8\" standalone=\"no\"?>\r\n<!DOCTYPE svg PUBLIC \"-//W3C//DTD SVG 1.1//EN\"\r\n  \"http://www.w3.org/Graphics/SVG/1.1/DTD/svg11.dtd\">\r\n<!-- Created with matplotlib (https://matplotlib.org/) -->\r\n<svg height=\"133.251769pt\" version=\"1.1\" viewBox=\"0 0 257.122794 133.251769\" width=\"257.122794pt\" xmlns=\"http://www.w3.org/2000/svg\" xmlns:xlink=\"http://www.w3.org/1999/xlink\">\r\n <defs>\r\n  <style type=\"text/css\">\r\n*{stroke-linecap:butt;stroke-linejoin:round;}\r\n  </style>\r\n </defs>\r\n <g id=\"figure_1\">\r\n  <g id=\"patch_1\">\r\n   <path d=\"M 0 133.251769 \r\nL 257.122794 133.251769 \r\nL 257.122794 0 \r\nL 0 0 \r\nz\r\n\" style=\"fill:none;\"/>\r\n  </g>\r\n  <g id=\"axes_1\">\r\n   <g id=\"patch_2\">\r\n    <path d=\"M 33.2875 109.373644 \r\nL 131.758088 109.373644 \r\nL 131.758088 10.903056 \r\nL 33.2875 10.903056 \r\nz\r\n\" style=\"fill:#ffffff;\"/>\r\n   </g>\r\n   <g clip-path=\"url(#p984b3d453d)\">\r\n    <image height=\"99\" id=\"image9e94cf8b39\" transform=\"scale(1 -1)translate(0 -99)\" width=\"99\" x=\"33.2875\" xlink:href=\"data:image/png;base64,\r\niVBORw0KGgoAAAANSUhEUgAAAGMAAABjCAYAAACPO76VAAAABHNCSVQICAgIfAhkiAAAAlpJREFUeJzt2ktywjAQhOF2KsdjwSE4Fodgofs5i4SK44DfoH803S4VLIxwzYck27iT1Mupnr6U71e3uq0v5f6+/sFkbgMIY4AgjAGCMAYIwhggCGOAIIwBgjAGCMIYIAhjgCCMAYIwBgjCGCAIY4AgjAGCMAYIwhggCGOAIIwBgjAGCMIYIAhjgCCMAYIwBgjCGCAIY4Ag+k81mP5yWbRfd70+76MUdafTUYe0KJ1+hkcLWYowzhilBoTUEMYYYupXP7V/LQipEYxhYecQpj6r87kahNQAxh6IR/3s6WNvPqp98wE5DKKU32lq47pzRMJiHAoxmppqgYTFuOdIiJpTlNQAxtbMnTXVGB0hMfYWagrCC/jGbClczeuIuYTGWBsyhJQIgw4hJcGIACElwIgCITWOEQlCCo4xdYobDUIKijF7e3wHhO9N7ci4eEeNiBoXf2ExHhVrL0TNUSEFxhimv1wOhah1SyQ0xp+i3W6b+yFASC3801fKP4g1BaVASMExhlPTo/n+WXHX7PvOhMV4tkasXYQJCPeExFiyWM+hkBCGqf4Y5Zr27kcu39yqH4AhomEkgIiBkQSCj5EIgo2RDIKLkRCCiZEUgoeRGIKFkRyCg2EICIYhIBiGgGAYAoJhCAiGISAYhoBgGAKCYQgIhiEgGM1AvGMzxAqM1/dviKYxmoOIitEkRESMZiGiYTQNEQmjeYgoGCkgImCkgaBjpIIgY6SDoGKkhCBipIWgYaSGIGGkh6BgGAKCYQgIhiEgGIaAYBgCgmEICIYhIBiGgGAYYk2xXrt9Ab6pa8hLMe0sAAAAAElFTkSuQmCC\" y=\"-10.373644\"/>\r\n   </g>\r\n   <g id=\"matplotlib.axis_1\">\r\n    <g id=\"xtick_1\">\r\n     <g id=\"line2d_1\">\r\n      <defs>\r\n       <path d=\"M 0 0 \r\nL 0 3.5 \r\n\" id=\"m1fa0ba47be\" style=\"stroke:#000000;stroke-width:0.8;\"/>\r\n      </defs>\r\n      <g>\r\n       <use style=\"stroke:#000000;stroke-width:0.8;\" x=\"33.383663\" xlink:href=\"#m1fa0ba47be\" y=\"109.373644\"/>\r\n      </g>\r\n     </g>\r\n     <g id=\"text_1\">\r\n      <!-- 0 -->\r\n      <defs>\r\n       <path d=\"M 31.78125 66.40625 \r\nQ 24.171875 66.40625 20.328125 58.90625 \r\nQ 16.5 51.421875 16.5 36.375 \r\nQ 16.5 21.390625 20.328125 13.890625 \r\nQ 24.171875 6.390625 31.78125 6.390625 \r\nQ 39.453125 6.390625 43.28125 13.890625 \r\nQ 47.125 21.390625 47.125 36.375 \r\nQ 47.125 51.421875 43.28125 58.90625 \r\nQ 39.453125 66.40625 31.78125 66.40625 \r\nz\r\nM 31.78125 74.21875 \r\nQ 44.046875 74.21875 50.515625 64.515625 \r\nQ 56.984375 54.828125 56.984375 36.375 \r\nQ 56.984375 17.96875 50.515625 8.265625 \r\nQ 44.046875 -1.421875 31.78125 -1.421875 \r\nQ 19.53125 -1.421875 13.0625 8.265625 \r\nQ 6.59375 17.96875 6.59375 36.375 \r\nQ 6.59375 54.828125 13.0625 64.515625 \r\nQ 19.53125 74.21875 31.78125 74.21875 \r\nz\r\n\" id=\"DejaVuSans-48\"/>\r\n      </defs>\r\n      <g transform=\"translate(30.202413 123.972082)scale(0.1 -0.1)\">\r\n       <use xlink:href=\"#DejaVuSans-48\"/>\r\n      </g>\r\n     </g>\r\n    </g>\r\n    <g id=\"xtick_2\">\r\n     <g id=\"line2d_2\">\r\n      <g>\r\n       <use style=\"stroke:#000000;stroke-width:0.8;\" x=\"71.848736\" xlink:href=\"#m1fa0ba47be\" y=\"109.373644\"/>\r\n      </g>\r\n     </g>\r\n     <g id=\"text_2\">\r\n      <!-- 200 -->\r\n      <defs>\r\n       <path d=\"M 19.1875 8.296875 \r\nL 53.609375 8.296875 \r\nL 53.609375 0 \r\nL 7.328125 0 \r\nL 7.328125 8.296875 \r\nQ 12.9375 14.109375 22.625 23.890625 \r\nQ 32.328125 33.6875 34.8125 36.53125 \r\nQ 39.546875 41.84375 41.421875 45.53125 \r\nQ 43.3125 49.21875 43.3125 52.78125 \r\nQ 43.3125 58.59375 39.234375 62.25 \r\nQ 35.15625 65.921875 28.609375 65.921875 \r\nQ 23.96875 65.921875 18.8125 64.3125 \r\nQ 13.671875 62.703125 7.8125 59.421875 \r\nL 7.8125 69.390625 \r\nQ 13.765625 71.78125 18.9375 73 \r\nQ 24.125 74.21875 28.421875 74.21875 \r\nQ 39.75 74.21875 46.484375 68.546875 \r\nQ 53.21875 62.890625 53.21875 53.421875 \r\nQ 53.21875 48.921875 51.53125 44.890625 \r\nQ 49.859375 40.875 45.40625 35.40625 \r\nQ 44.1875 33.984375 37.640625 27.21875 \r\nQ 31.109375 20.453125 19.1875 8.296875 \r\nz\r\n\" id=\"DejaVuSans-50\"/>\r\n      </defs>\r\n      <g transform=\"translate(62.304986 123.972082)scale(0.1 -0.1)\">\r\n       <use xlink:href=\"#DejaVuSans-50\"/>\r\n       <use x=\"63.623047\" xlink:href=\"#DejaVuSans-48\"/>\r\n       <use x=\"127.246094\" xlink:href=\"#DejaVuSans-48\"/>\r\n      </g>\r\n     </g>\r\n    </g>\r\n    <g id=\"xtick_3\">\r\n     <g id=\"line2d_3\">\r\n      <g>\r\n       <use style=\"stroke:#000000;stroke-width:0.8;\" x=\"110.31381\" xlink:href=\"#m1fa0ba47be\" y=\"109.373644\"/>\r\n      </g>\r\n     </g>\r\n     <g id=\"text_3\">\r\n      <!-- 400 -->\r\n      <defs>\r\n       <path d=\"M 37.796875 64.3125 \r\nL 12.890625 25.390625 \r\nL 37.796875 25.390625 \r\nz\r\nM 35.203125 72.90625 \r\nL 47.609375 72.90625 \r\nL 47.609375 25.390625 \r\nL 58.015625 25.390625 \r\nL 58.015625 17.1875 \r\nL 47.609375 17.1875 \r\nL 47.609375 0 \r\nL 37.796875 0 \r\nL 37.796875 17.1875 \r\nL 4.890625 17.1875 \r\nL 4.890625 26.703125 \r\nz\r\n\" id=\"DejaVuSans-52\"/>\r\n      </defs>\r\n      <g transform=\"translate(100.77006 123.972082)scale(0.1 -0.1)\">\r\n       <use xlink:href=\"#DejaVuSans-52\"/>\r\n       <use x=\"63.623047\" xlink:href=\"#DejaVuSans-48\"/>\r\n       <use x=\"127.246094\" xlink:href=\"#DejaVuSans-48\"/>\r\n      </g>\r\n     </g>\r\n    </g>\r\n   </g>\r\n   <g id=\"matplotlib.axis_2\">\r\n    <g id=\"ytick_1\">\r\n     <g id=\"line2d_4\">\r\n      <defs>\r\n       <path d=\"M 0 0 \r\nL -3.5 0 \r\n\" id=\"mf395a69377\" style=\"stroke:#000000;stroke-width:0.8;\"/>\r\n      </defs>\r\n      <g>\r\n       <use style=\"stroke:#000000;stroke-width:0.8;\" x=\"33.2875\" xlink:href=\"#mf395a69377\" y=\"10.999219\"/>\r\n      </g>\r\n     </g>\r\n     <g id=\"text_4\">\r\n      <!-- 0 -->\r\n      <g transform=\"translate(19.925 14.798437)scale(0.1 -0.1)\">\r\n       <use xlink:href=\"#DejaVuSans-48\"/>\r\n      </g>\r\n     </g>\r\n    </g>\r\n    <g id=\"ytick_2\">\r\n     <g id=\"line2d_5\">\r\n      <g>\r\n       <use style=\"stroke:#000000;stroke-width:0.8;\" x=\"33.2875\" xlink:href=\"#mf395a69377\" y=\"49.464292\"/>\r\n      </g>\r\n     </g>\r\n     <g id=\"text_5\">\r\n      <!-- 200 -->\r\n      <g transform=\"translate(7.2 53.263511)scale(0.1 -0.1)\">\r\n       <use xlink:href=\"#DejaVuSans-50\"/>\r\n       <use x=\"63.623047\" xlink:href=\"#DejaVuSans-48\"/>\r\n       <use x=\"127.246094\" xlink:href=\"#DejaVuSans-48\"/>\r\n      </g>\r\n     </g>\r\n    </g>\r\n    <g id=\"ytick_3\">\r\n     <g id=\"line2d_6\">\r\n      <g>\r\n       <use style=\"stroke:#000000;stroke-width:0.8;\" x=\"33.2875\" xlink:href=\"#mf395a69377\" y=\"87.929366\"/>\r\n      </g>\r\n     </g>\r\n     <g id=\"text_6\">\r\n      <!-- 400 -->\r\n      <g transform=\"translate(7.2 91.728585)scale(0.1 -0.1)\">\r\n       <use xlink:href=\"#DejaVuSans-52\"/>\r\n       <use x=\"63.623047\" xlink:href=\"#DejaVuSans-48\"/>\r\n       <use x=\"127.246094\" xlink:href=\"#DejaVuSans-48\"/>\r\n      </g>\r\n     </g>\r\n    </g>\r\n   </g>\r\n   <g id=\"patch_3\">\r\n    <path d=\"M 33.2875 109.373644 \r\nL 33.2875 10.903056 \r\n\" style=\"fill:none;stroke:#000000;stroke-linecap:square;stroke-linejoin:miter;stroke-width:0.8;\"/>\r\n   </g>\r\n   <g id=\"patch_4\">\r\n    <path d=\"M 131.758088 109.373644 \r\nL 131.758088 10.903056 \r\n\" style=\"fill:none;stroke:#000000;stroke-linecap:square;stroke-linejoin:miter;stroke-width:0.8;\"/>\r\n   </g>\r\n   <g id=\"patch_5\">\r\n    <path d=\"M 33.2875 109.373644 \r\nL 131.758088 109.373644 \r\n\" style=\"fill:none;stroke:#000000;stroke-linecap:square;stroke-linejoin:miter;stroke-width:0.8;\"/>\r\n   </g>\r\n   <g id=\"patch_6\">\r\n    <path d=\"M 33.2875 10.903056 \r\nL 131.758088 10.903056 \r\n\" style=\"fill:none;stroke:#000000;stroke-linecap:square;stroke-linejoin:miter;stroke-width:0.8;\"/>\r\n   </g>\r\n  </g>\r\n  <g id=\"axes_2\">\r\n   <g id=\"patch_7\">\r\n    <path d=\"M 151.452206 109.373644 \r\nL 249.922794 109.373644 \r\nL 249.922794 10.903056 \r\nL 151.452206 10.903056 \r\nz\r\n\" style=\"fill:#ffffff;\"/>\r\n   </g>\r\n   <g clip-path=\"url(#pe68f05672e)\">\r\n    <image height=\"99\" id=\"imagecba4e65473\" transform=\"scale(1 -1)translate(0 -99)\" width=\"99\" x=\"151.452206\" xlink:href=\"data:image/png;base64,\r\niVBORw0KGgoAAAANSUhEUgAAAGMAAABjCAYAAACPO76VAAAABHNCSVQICAgIfAhkiAAAAfFJREFUeJzt2lFuwjAQANFN1UPlQByLA+VW9COyoBZVaBLYsT3zDVLkh8M6MEXELQzRV/YF2D0xQIkBSgxQYoASA5QYoL6zL+DdLcvzY9Q8Tx++ku2m6OjQ9+rC16+jwHSBcWRxy3sJIM1inPnppoA0+QX+CDHP0+FFzEYoNbUzaoTeamaaotxK3hkeYwSEEvo7YySICDDGaBARUIwRISKAGKNCRMAwRoaIAGGMDhEBwRBiDYERIUQEAOOvx94jlo4R4a4oITBsTQxQYoDqFqPFwQD/CP2/tYhQQmAsy+3wRNXDr4CIn133nsCpf7nZGwIjYnthW/oz2t4wGKWte35Pi1+Hwxi5bkfbFhMDlBigxACFOPS90uWyf864XtuYwLDT1JHF34qKg8N4J0IdDQWD8UmEOgoKAiMT4rFslPRpigJBKBWDBpF9Pek7g1YmSBpG9qeQmDsDVDMn8K2yJ6EzStsZPSze2XmbApWK4e74XfrOEOReOkbECiIKBKM0OgoKozQqCvqcUYP0fmpHPEK3NeRtatTEACUGKDFAiQFKDFBigBIDlBigxAAlBigxQIkBSgxQYoASA5QYoMQAJQYoMUCJAUoMUGKAEgOUGKDEACUGKDFAiQFKDFBigBIDlBigxAAlBigxQIkBSgxQYoD6AbYviknN34E0AAAAAElFTkSuQmCC\" y=\"-10.373644\"/>\r\n   </g>\r\n   <g id=\"matplotlib.axis_3\">\r\n    <g id=\"xtick_4\">\r\n     <g id=\"line2d_7\">\r\n      <g>\r\n       <use style=\"stroke:#000000;stroke-width:0.8;\" x=\"151.548369\" xlink:href=\"#m1fa0ba47be\" y=\"109.373644\"/>\r\n      </g>\r\n     </g>\r\n     <g id=\"text_7\">\r\n      <!-- 0 -->\r\n      <g transform=\"translate(148.367119 123.972082)scale(0.1 -0.1)\">\r\n       <use xlink:href=\"#DejaVuSans-48\"/>\r\n      </g>\r\n     </g>\r\n    </g>\r\n    <g id=\"xtick_5\">\r\n     <g id=\"line2d_8\">\r\n      <g>\r\n       <use style=\"stroke:#000000;stroke-width:0.8;\" x=\"190.013442\" xlink:href=\"#m1fa0ba47be\" y=\"109.373644\"/>\r\n      </g>\r\n     </g>\r\n     <g id=\"text_8\">\r\n      <!-- 200 -->\r\n      <g transform=\"translate(180.469692 123.972082)scale(0.1 -0.1)\">\r\n       <use xlink:href=\"#DejaVuSans-50\"/>\r\n       <use x=\"63.623047\" xlink:href=\"#DejaVuSans-48\"/>\r\n       <use x=\"127.246094\" xlink:href=\"#DejaVuSans-48\"/>\r\n      </g>\r\n     </g>\r\n    </g>\r\n    <g id=\"xtick_6\">\r\n     <g id=\"line2d_9\">\r\n      <g>\r\n       <use style=\"stroke:#000000;stroke-width:0.8;\" x=\"228.478516\" xlink:href=\"#m1fa0ba47be\" y=\"109.373644\"/>\r\n      </g>\r\n     </g>\r\n     <g id=\"text_9\">\r\n      <!-- 400 -->\r\n      <g transform=\"translate(218.934766 123.972082)scale(0.1 -0.1)\">\r\n       <use xlink:href=\"#DejaVuSans-52\"/>\r\n       <use x=\"63.623047\" xlink:href=\"#DejaVuSans-48\"/>\r\n       <use x=\"127.246094\" xlink:href=\"#DejaVuSans-48\"/>\r\n      </g>\r\n     </g>\r\n    </g>\r\n   </g>\r\n   <g id=\"matplotlib.axis_4\">\r\n    <g id=\"ytick_4\">\r\n     <g id=\"line2d_10\">\r\n      <g>\r\n       <use style=\"stroke:#000000;stroke-width:0.8;\" x=\"151.452206\" xlink:href=\"#mf395a69377\" y=\"10.999219\"/>\r\n      </g>\r\n     </g>\r\n     <g id=\"text_10\">\r\n      <!-- 0 -->\r\n      <g transform=\"translate(138.089706 14.798438)scale(0.1 -0.1)\">\r\n       <use xlink:href=\"#DejaVuSans-48\"/>\r\n      </g>\r\n     </g>\r\n    </g>\r\n    <g id=\"ytick_5\">\r\n     <g id=\"line2d_11\">\r\n      <g>\r\n       <use style=\"stroke:#000000;stroke-width:0.8;\" x=\"151.452206\" xlink:href=\"#mf395a69377\" y=\"49.464292\"/>\r\n      </g>\r\n     </g>\r\n     <g id=\"text_11\">\r\n      <!-- 200 -->\r\n      <g transform=\"translate(125.364706 53.263511)scale(0.1 -0.1)\">\r\n       <use xlink:href=\"#DejaVuSans-50\"/>\r\n       <use x=\"63.623047\" xlink:href=\"#DejaVuSans-48\"/>\r\n       <use x=\"127.246094\" xlink:href=\"#DejaVuSans-48\"/>\r\n      </g>\r\n     </g>\r\n    </g>\r\n    <g id=\"ytick_6\">\r\n     <g id=\"line2d_12\">\r\n      <g>\r\n       <use style=\"stroke:#000000;stroke-width:0.8;\" x=\"151.452206\" xlink:href=\"#mf395a69377\" y=\"87.929366\"/>\r\n      </g>\r\n     </g>\r\n     <g id=\"text_12\">\r\n      <!-- 400 -->\r\n      <g transform=\"translate(125.364706 91.728585)scale(0.1 -0.1)\">\r\n       <use xlink:href=\"#DejaVuSans-52\"/>\r\n       <use x=\"63.623047\" xlink:href=\"#DejaVuSans-48\"/>\r\n       <use x=\"127.246094\" xlink:href=\"#DejaVuSans-48\"/>\r\n      </g>\r\n     </g>\r\n    </g>\r\n   </g>\r\n   <g id=\"patch_8\">\r\n    <path d=\"M 151.452206 109.373644 \r\nL 151.452206 10.903056 \r\n\" style=\"fill:none;stroke:#000000;stroke-linecap:square;stroke-linejoin:miter;stroke-width:0.8;\"/>\r\n   </g>\r\n   <g id=\"patch_9\">\r\n    <path d=\"M 249.922794 109.373644 \r\nL 249.922794 10.903056 \r\n\" style=\"fill:none;stroke:#000000;stroke-linecap:square;stroke-linejoin:miter;stroke-width:0.8;\"/>\r\n   </g>\r\n   <g id=\"patch_10\">\r\n    <path d=\"M 151.452206 109.373644 \r\nL 249.922794 109.373644 \r\n\" style=\"fill:none;stroke:#000000;stroke-linecap:square;stroke-linejoin:miter;stroke-width:0.8;\"/>\r\n   </g>\r\n   <g id=\"patch_11\">\r\n    <path d=\"M 151.452206 10.903056 \r\nL 249.922794 10.903056 \r\n\" style=\"fill:none;stroke:#000000;stroke-linecap:square;stroke-linejoin:miter;stroke-width:0.8;\"/>\r\n   </g>\r\n  </g>\r\n </g>\r\n <defs>\r\n  <clipPath id=\"p984b3d453d\">\r\n   <rect height=\"98.470588\" width=\"98.470588\" x=\"33.2875\" y=\"10.903056\"/>\r\n  </clipPath>\r\n  <clipPath id=\"pe68f05672e\">\r\n   <rect height=\"98.470588\" width=\"98.470588\" x=\"151.452206\" y=\"10.903056\"/>\r\n  </clipPath>\r\n </defs>\r\n</svg>\r\n",
      "image/png": "[encoded data removed]"
     },
     "metadata": {
      "needs_background": "light"
     }
    }
   ],
   "source": [
    "import cv2 as cv\n",
    "import numpy as np\n",
    "import matplotlib.pyplot as plt\n",
    "\n",
    "%matplotlib inline\n",
    "\n",
    "img=np.zeros((512,512,3),np.uint8)\n",
    "cv.line(img,(0,0),(511,511),(180,180,255),5)\n",
    "# imageRGB = cv.cvtColor(img,cv.COLOR_BGR2RGB)\n",
    "# plt.imshow(imageRGB)\n",
    "# plt.show()\n",
    "\n",
    "cv.rectangle(img,(384,3),(510,128),(0,255,0),3)\n",
    "# imageRGB = cv.cvtColor(img,cv.COLOR_BGR2RGB)\n",
    "# plt.imshow(imageRGB)\n",
    "# plt.show()\n",
    "\n",
    "cv.circle(img,(300,300),63,(100,100,255),10)\n",
    "imageRGB = cv.cvtColor(img,cv.COLOR_BGR2RGB)\n",
    "plt.subplot(131)\n",
    "plt.imshow(imageRGB)\n",
    "# plt.show()\n",
    "\n",
    "## 椭圆\n",
    "# https://docs.opencv.org/master/d6/d6e/group__imgproc__draw.html#ga28b2267d35786f5f890ca167236cbc69\n",
    "# img\t=\tcv.ellipse(\timg, center, axes, angle, startAngle, endAngle, color[, thickness[, lineType[, shift]]]\t)\n",
    "#     img         图片数据\n",
    "#     center      中心位置\n",
    "#     axes        长轴/短轴\n",
    "#     angle       旋转\n",
    "#     startAngle  画图起始角度\n",
    "#     endAngle    画图结束角度\n",
    "\n",
    "img2 = np.zeros((512,512,3),np.uint8)\n",
    "cv.ellipse(img2,(256,256),(100,50), 0,0,270, (255,100,100),-1)#填充\n",
    "cv.ellipse(img2,(256,400),(100,50), 30,0,270, (255,200,200),6)\n",
    "imageRGB2 = cv.cvtColor(img2,cv.COLOR_BGR2RGB)\n",
    "plt.subplot(132)\n",
    "plt.imshow(imageRGB2)\n",
    "plt.show()"
   ]
  },
  {
   "cell_type": "code",
   "execution_count": 44,
   "metadata": {},
   "outputs": [
    {
     "output_type": "display_data",
     "data": {
      "text/plain": "<Figure size 432x288 with 1 Axes>",
      "image/svg+xml": "<?xml version=\"1.0\" encoding=\"utf-8\" standalone=\"no\"?>\r\n<!DOCTYPE svg PUBLIC \"-//W3C//DTD SVG 1.1//EN\"\r\n  \"http://www.w3.org/Graphics/SVG/1.1/DTD/svg11.dtd\">\r\n<!-- Created with matplotlib (https://matplotlib.org/) -->\r\n<svg height=\"252.105pt\" version=\"1.1\" viewBox=\"0 0 262.587344 252.105\" width=\"262.587344pt\" xmlns=\"http://www.w3.org/2000/svg\" xmlns:xlink=\"http://www.w3.org/1999/xlink\">\r\n <defs>\r\n  <style type=\"text/css\">\r\n*{stroke-linecap:butt;stroke-linejoin:round;}\r\n  </style>\r\n </defs>\r\n <g id=\"figure_1\">\r\n  <g id=\"patch_1\">\r\n   <path d=\"M 0 252.105 \r\nL 262.587344 252.105 \r\nL 262.587344 0 \r\nL 0 0 \r\nz\r\n\" style=\"fill:none;\"/>\r\n  </g>\r\n  <g id=\"axes_1\">\r\n   <g id=\"patch_2\">\r\n    <path d=\"M 33.2875 228.226875 \r\nL 250.7275 228.226875 \r\nL 250.7275 10.786875 \r\nL 33.2875 10.786875 \r\nz\r\n\" style=\"fill:#ffffff;\"/>\r\n   </g>\r\n   <g clip-path=\"url(#p4b5042f8a0)\">\r\n    <image height=\"218\" id=\"imagea82d3a63dc\" transform=\"scale(1 -1)translate(0 -218)\" width=\"218\" x=\"33\" xlink:href=\"data:image/png;base64,\r\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\" y=\"-10.105\"/>\r\n   </g>\r\n   <g id=\"matplotlib.axis_1\">\r\n    <g id=\"xtick_1\">\r\n     <g id=\"line2d_1\">\r\n      <defs>\r\n       <path d=\"M 0 0 \r\nL 0 3.5 \r\n\" id=\"m9cbb49d88e\" style=\"stroke:#000000;stroke-width:0.8;\"/>\r\n      </defs>\r\n      <g>\r\n       <use style=\"stroke:#000000;stroke-width:0.8;\" x=\"33.499844\" xlink:href=\"#m9cbb49d88e\" y=\"228.226875\"/>\r\n      </g>\r\n     </g>\r\n     <g id=\"text_1\">\r\n      <!-- 0 -->\r\n      <defs>\r\n       <path d=\"M 31.78125 66.40625 \r\nQ 24.171875 66.40625 20.328125 58.90625 \r\nQ 16.5 51.421875 16.5 36.375 \r\nQ 16.5 21.390625 20.328125 13.890625 \r\nQ 24.171875 6.390625 31.78125 6.390625 \r\nQ 39.453125 6.390625 43.28125 13.890625 \r\nQ 47.125 21.390625 47.125 36.375 \r\nQ 47.125 51.421875 43.28125 58.90625 \r\nQ 39.453125 66.40625 31.78125 66.40625 \r\nz\r\nM 31.78125 74.21875 \r\nQ 44.046875 74.21875 50.515625 64.515625 \r\nQ 56.984375 54.828125 56.984375 36.375 \r\nQ 56.984375 17.96875 50.515625 8.265625 \r\nQ 44.046875 -1.421875 31.78125 -1.421875 \r\nQ 19.53125 -1.421875 13.0625 8.265625 \r\nQ 6.59375 17.96875 6.59375 36.375 \r\nQ 6.59375 54.828125 13.0625 64.515625 \r\nQ 19.53125 74.21875 31.78125 74.21875 \r\nz\r\n\" id=\"DejaVuSans-48\"/>\r\n      </defs>\r\n      <g transform=\"translate(30.318594 242.825312)scale(0.1 -0.1)\">\r\n       <use xlink:href=\"#DejaVuSans-48\"/>\r\n      </g>\r\n     </g>\r\n    </g>\r\n    <g id=\"xtick_2\">\r\n     <g id=\"line2d_2\">\r\n      <g>\r\n       <use style=\"stroke:#000000;stroke-width:0.8;\" x=\"75.968594\" xlink:href=\"#m9cbb49d88e\" y=\"228.226875\"/>\r\n      </g>\r\n     </g>\r\n     <g id=\"text_2\">\r\n      <!-- 100 -->\r\n      <defs>\r\n       <path d=\"M 12.40625 8.296875 \r\nL 28.515625 8.296875 \r\nL 28.515625 63.921875 \r\nL 10.984375 60.40625 \r\nL 10.984375 69.390625 \r\nL 28.421875 72.90625 \r\nL 38.28125 72.90625 \r\nL 38.28125 8.296875 \r\nL 54.390625 8.296875 \r\nL 54.390625 0 \r\nL 12.40625 0 \r\nz\r\n\" id=\"DejaVuSans-49\"/>\r\n      </defs>\r\n      <g transform=\"translate(66.424844 242.825312)scale(0.1 -0.1)\">\r\n       <use xlink:href=\"#DejaVuSans-49\"/>\r\n       <use x=\"63.623047\" xlink:href=\"#DejaVuSans-48\"/>\r\n       <use x=\"127.246094\" xlink:href=\"#DejaVuSans-48\"/>\r\n      </g>\r\n     </g>\r\n    </g>\r\n    <g id=\"xtick_3\">\r\n     <g id=\"line2d_3\">\r\n      <g>\r\n       <use style=\"stroke:#000000;stroke-width:0.8;\" x=\"118.437344\" xlink:href=\"#m9cbb49d88e\" y=\"228.226875\"/>\r\n      </g>\r\n     </g>\r\n     <g id=\"text_3\">\r\n      <!-- 200 -->\r\n      <defs>\r\n       <path d=\"M 19.1875 8.296875 \r\nL 53.609375 8.296875 \r\nL 53.609375 0 \r\nL 7.328125 0 \r\nL 7.328125 8.296875 \r\nQ 12.9375 14.109375 22.625 23.890625 \r\nQ 32.328125 33.6875 34.8125 36.53125 \r\nQ 39.546875 41.84375 41.421875 45.53125 \r\nQ 43.3125 49.21875 43.3125 52.78125 \r\nQ 43.3125 58.59375 39.234375 62.25 \r\nQ 35.15625 65.921875 28.609375 65.921875 \r\nQ 23.96875 65.921875 18.8125 64.3125 \r\nQ 13.671875 62.703125 7.8125 59.421875 \r\nL 7.8125 69.390625 \r\nQ 13.765625 71.78125 18.9375 73 \r\nQ 24.125 74.21875 28.421875 74.21875 \r\nQ 39.75 74.21875 46.484375 68.546875 \r\nQ 53.21875 62.890625 53.21875 53.421875 \r\nQ 53.21875 48.921875 51.53125 44.890625 \r\nQ 49.859375 40.875 45.40625 35.40625 \r\nQ 44.1875 33.984375 37.640625 27.21875 \r\nQ 31.109375 20.453125 19.1875 8.296875 \r\nz\r\n\" id=\"DejaVuSans-50\"/>\r\n      </defs>\r\n      <g transform=\"translate(108.893594 242.825312)scale(0.1 -0.1)\">\r\n       <use xlink:href=\"#DejaVuSans-50\"/>\r\n       <use x=\"63.623047\" xlink:href=\"#DejaVuSans-48\"/>\r\n       <use x=\"127.246094\" xlink:href=\"#DejaVuSans-48\"/>\r\n      </g>\r\n     </g>\r\n    </g>\r\n    <g id=\"xtick_4\">\r\n     <g id=\"line2d_4\">\r\n      <g>\r\n       <use style=\"stroke:#000000;stroke-width:0.8;\" x=\"160.906094\" xlink:href=\"#m9cbb49d88e\" y=\"228.226875\"/>\r\n      </g>\r\n     </g>\r\n     <g id=\"text_4\">\r\n      <!-- 300 -->\r\n      <defs>\r\n       <path d=\"M 40.578125 39.3125 \r\nQ 47.65625 37.796875 51.625 33 \r\nQ 55.609375 28.21875 55.609375 21.1875 \r\nQ 55.609375 10.40625 48.1875 4.484375 \r\nQ 40.765625 -1.421875 27.09375 -1.421875 \r\nQ 22.515625 -1.421875 17.65625 -0.515625 \r\nQ 12.796875 0.390625 7.625 2.203125 \r\nL 7.625 11.71875 \r\nQ 11.71875 9.328125 16.59375 8.109375 \r\nQ 21.484375 6.890625 26.8125 6.890625 \r\nQ 36.078125 6.890625 40.9375 10.546875 \r\nQ 45.796875 14.203125 45.796875 21.1875 \r\nQ 45.796875 27.640625 41.28125 31.265625 \r\nQ 36.765625 34.90625 28.71875 34.90625 \r\nL 20.21875 34.90625 \r\nL 20.21875 43.015625 \r\nL 29.109375 43.015625 \r\nQ 36.375 43.015625 40.234375 45.921875 \r\nQ 44.09375 48.828125 44.09375 54.296875 \r\nQ 44.09375 59.90625 40.109375 62.90625 \r\nQ 36.140625 65.921875 28.71875 65.921875 \r\nQ 24.65625 65.921875 20.015625 65.03125 \r\nQ 15.375 64.15625 9.8125 62.3125 \r\nL 9.8125 71.09375 \r\nQ 15.4375 72.65625 20.34375 73.4375 \r\nQ 25.25 74.21875 29.59375 74.21875 \r\nQ 40.828125 74.21875 47.359375 69.109375 \r\nQ 53.90625 64.015625 53.90625 55.328125 \r\nQ 53.90625 49.265625 50.4375 45.09375 \r\nQ 46.96875 40.921875 40.578125 39.3125 \r\nz\r\n\" id=\"DejaVuSans-51\"/>\r\n      </defs>\r\n      <g transform=\"translate(151.362344 242.825312)scale(0.1 -0.1)\">\r\n       <use xlink:href=\"#DejaVuSans-51\"/>\r\n       <use x=\"63.623047\" xlink:href=\"#DejaVuSans-48\"/>\r\n       <use x=\"127.246094\" xlink:href=\"#DejaVuSans-48\"/>\r\n      </g>\r\n     </g>\r\n    </g>\r\n    <g id=\"xtick_5\">\r\n     <g id=\"line2d_5\">\r\n      <g>\r\n       <use style=\"stroke:#000000;stroke-width:0.8;\" x=\"203.374844\" xlink:href=\"#m9cbb49d88e\" y=\"228.226875\"/>\r\n      </g>\r\n     </g>\r\n     <g id=\"text_5\">\r\n      <!-- 400 -->\r\n      <defs>\r\n       <path d=\"M 37.796875 64.3125 \r\nL 12.890625 25.390625 \r\nL 37.796875 25.390625 \r\nz\r\nM 35.203125 72.90625 \r\nL 47.609375 72.90625 \r\nL 47.609375 25.390625 \r\nL 58.015625 25.390625 \r\nL 58.015625 17.1875 \r\nL 47.609375 17.1875 \r\nL 47.609375 0 \r\nL 37.796875 0 \r\nL 37.796875 17.1875 \r\nL 4.890625 17.1875 \r\nL 4.890625 26.703125 \r\nz\r\n\" id=\"DejaVuSans-52\"/>\r\n      </defs>\r\n      <g transform=\"translate(193.831094 242.825312)scale(0.1 -0.1)\">\r\n       <use xlink:href=\"#DejaVuSans-52\"/>\r\n       <use x=\"63.623047\" xlink:href=\"#DejaVuSans-48\"/>\r\n       <use x=\"127.246094\" xlink:href=\"#DejaVuSans-48\"/>\r\n      </g>\r\n     </g>\r\n    </g>\r\n    <g id=\"xtick_6\">\r\n     <g id=\"line2d_6\">\r\n      <g>\r\n       <use style=\"stroke:#000000;stroke-width:0.8;\" x=\"245.843594\" xlink:href=\"#m9cbb49d88e\" y=\"228.226875\"/>\r\n      </g>\r\n     </g>\r\n     <g id=\"text_6\">\r\n      <!-- 500 -->\r\n      <defs>\r\n       <path d=\"M 10.796875 72.90625 \r\nL 49.515625 72.90625 \r\nL 49.515625 64.59375 \r\nL 19.828125 64.59375 \r\nL 19.828125 46.734375 \r\nQ 21.96875 47.46875 24.109375 47.828125 \r\nQ 26.265625 48.1875 28.421875 48.1875 \r\nQ 40.625 48.1875 47.75 41.5 \r\nQ 54.890625 34.8125 54.890625 23.390625 \r\nQ 54.890625 11.625 47.5625 5.09375 \r\nQ 40.234375 -1.421875 26.90625 -1.421875 \r\nQ 22.3125 -1.421875 17.546875 -0.640625 \r\nQ 12.796875 0.140625 7.71875 1.703125 \r\nL 7.71875 11.625 \r\nQ 12.109375 9.234375 16.796875 8.0625 \r\nQ 21.484375 6.890625 26.703125 6.890625 \r\nQ 35.15625 6.890625 40.078125 11.328125 \r\nQ 45.015625 15.765625 45.015625 23.390625 \r\nQ 45.015625 31 40.078125 35.4375 \r\nQ 35.15625 39.890625 26.703125 39.890625 \r\nQ 22.75 39.890625 18.8125 39.015625 \r\nQ 14.890625 38.140625 10.796875 36.28125 \r\nz\r\n\" id=\"DejaVuSans-53\"/>\r\n      </defs>\r\n      <g transform=\"translate(236.299844 242.825312)scale(0.1 -0.1)\">\r\n       <use xlink:href=\"#DejaVuSans-53\"/>\r\n       <use x=\"63.623047\" xlink:href=\"#DejaVuSans-48\"/>\r\n       <use x=\"127.246094\" xlink:href=\"#DejaVuSans-48\"/>\r\n      </g>\r\n     </g>\r\n    </g>\r\n   </g>\r\n   <g id=\"matplotlib.axis_2\">\r\n    <g id=\"ytick_1\">\r\n     <g id=\"line2d_7\">\r\n      <defs>\r\n       <path d=\"M 0 0 \r\nL -3.5 0 \r\n\" id=\"m08c54b675f\" style=\"stroke:#000000;stroke-width:0.8;\"/>\r\n      </defs>\r\n      <g>\r\n       <use style=\"stroke:#000000;stroke-width:0.8;\" x=\"33.2875\" xlink:href=\"#m08c54b675f\" y=\"10.999219\"/>\r\n      </g>\r\n     </g>\r\n     <g id=\"text_7\">\r\n      <!-- 0 -->\r\n      <g transform=\"translate(19.925 14.798437)scale(0.1 -0.1)\">\r\n       <use xlink:href=\"#DejaVuSans-48\"/>\r\n      </g>\r\n     </g>\r\n    </g>\r\n    <g id=\"ytick_2\">\r\n     <g id=\"line2d_8\">\r\n      <g>\r\n       <use style=\"stroke:#000000;stroke-width:0.8;\" x=\"33.2875\" xlink:href=\"#m08c54b675f\" y=\"53.467969\"/>\r\n      </g>\r\n     </g>\r\n     <g id=\"text_8\">\r\n      <!-- 100 -->\r\n      <g transform=\"translate(7.2 57.267187)scale(0.1 -0.1)\">\r\n       <use xlink:href=\"#DejaVuSans-49\"/>\r\n       <use x=\"63.623047\" xlink:href=\"#DejaVuSans-48\"/>\r\n       <use x=\"127.246094\" xlink:href=\"#DejaVuSans-48\"/>\r\n      </g>\r\n     </g>\r\n    </g>\r\n    <g id=\"ytick_3\">\r\n     <g id=\"line2d_9\">\r\n      <g>\r\n       <use style=\"stroke:#000000;stroke-width:0.8;\" x=\"33.2875\" xlink:href=\"#m08c54b675f\" y=\"95.936719\"/>\r\n      </g>\r\n     </g>\r\n     <g id=\"text_9\">\r\n      <!-- 200 -->\r\n      <g transform=\"translate(7.2 99.735937)scale(0.1 -0.1)\">\r\n       <use xlink:href=\"#DejaVuSans-50\"/>\r\n       <use x=\"63.623047\" xlink:href=\"#DejaVuSans-48\"/>\r\n       <use x=\"127.246094\" xlink:href=\"#DejaVuSans-48\"/>\r\n      </g>\r\n     </g>\r\n    </g>\r\n    <g id=\"ytick_4\">\r\n     <g id=\"line2d_10\">\r\n      <g>\r\n       <use style=\"stroke:#000000;stroke-width:0.8;\" x=\"33.2875\" xlink:href=\"#m08c54b675f\" y=\"138.405469\"/>\r\n      </g>\r\n     </g>\r\n     <g id=\"text_10\">\r\n      <!-- 300 -->\r\n      <g transform=\"translate(7.2 142.204687)scale(0.1 -0.1)\">\r\n       <use xlink:href=\"#DejaVuSans-51\"/>\r\n       <use x=\"63.623047\" xlink:href=\"#DejaVuSans-48\"/>\r\n       <use x=\"127.246094\" xlink:href=\"#DejaVuSans-48\"/>\r\n      </g>\r\n     </g>\r\n    </g>\r\n    <g id=\"ytick_5\">\r\n     <g id=\"line2d_11\">\r\n      <g>\r\n       <use style=\"stroke:#000000;stroke-width:0.8;\" x=\"33.2875\" xlink:href=\"#m08c54b675f\" y=\"180.874219\"/>\r\n      </g>\r\n     </g>\r\n     <g id=\"text_11\">\r\n      <!-- 400 -->\r\n      <g transform=\"translate(7.2 184.673437)scale(0.1 -0.1)\">\r\n       <use xlink:href=\"#DejaVuSans-52\"/>\r\n       <use x=\"63.623047\" xlink:href=\"#DejaVuSans-48\"/>\r\n       <use x=\"127.246094\" xlink:href=\"#DejaVuSans-48\"/>\r\n      </g>\r\n     </g>\r\n    </g>\r\n    <g id=\"ytick_6\">\r\n     <g id=\"line2d_12\">\r\n      <g>\r\n       <use style=\"stroke:#000000;stroke-width:0.8;\" x=\"33.2875\" xlink:href=\"#m08c54b675f\" y=\"223.342969\"/>\r\n      </g>\r\n     </g>\r\n     <g id=\"text_12\">\r\n      <!-- 500 -->\r\n      <g transform=\"translate(7.2 227.142187)scale(0.1 -0.1)\">\r\n       <use xlink:href=\"#DejaVuSans-53\"/>\r\n       <use x=\"63.623047\" xlink:href=\"#DejaVuSans-48\"/>\r\n       <use x=\"127.246094\" xlink:href=\"#DejaVuSans-48\"/>\r\n      </g>\r\n     </g>\r\n    </g>\r\n   </g>\r\n   <g id=\"patch_3\">\r\n    <path d=\"M 33.2875 228.226875 \r\nL 33.2875 10.786875 \r\n\" style=\"fill:none;stroke:#000000;stroke-linecap:square;stroke-linejoin:miter;stroke-width:0.8;\"/>\r\n   </g>\r\n   <g id=\"patch_4\">\r\n    <path d=\"M 250.7275 228.226875 \r\nL 250.7275 10.786875 \r\n\" style=\"fill:none;stroke:#000000;stroke-linecap:square;stroke-linejoin:miter;stroke-width:0.8;\"/>\r\n   </g>\r\n   <g id=\"patch_5\">\r\n    <path d=\"M 33.2875 228.226875 \r\nL 250.7275 228.226875 \r\n\" style=\"fill:none;stroke:#000000;stroke-linecap:square;stroke-linejoin:miter;stroke-width:0.8;\"/>\r\n   </g>\r\n   <g id=\"patch_6\">\r\n    <path d=\"M 33.2875 10.786875 \r\nL 250.7275 10.786875 \r\n\" style=\"fill:none;stroke:#000000;stroke-linecap:square;stroke-linejoin:miter;stroke-width:0.8;\"/>\r\n   </g>\r\n  </g>\r\n </g>\r\n <defs>\r\n  <clipPath id=\"p4b5042f8a0\">\r\n   <rect height=\"217.44\" width=\"217.44\" x=\"33.2875\" y=\"10.786875\"/>\r\n  </clipPath>\r\n </defs>\r\n</svg>\r\n",
      "image/png": "[encoded data removed]"
     },
     "metadata": {
      "needs_background": "light"
     }
    }
   ],
   "source": [
    "import cv2 as cv\n",
    "import numpy as np\n",
    "import matplotlib.pyplot as plt\n",
    "\n",
    "%matplotlib inline\n",
    "\n",
    "## 多边形\n",
    "#形状为 ROWSx1x2 的数组 ROWS是顶点数\n",
    "\n",
    "img=np.zeros((512,512,3),np.uint8)\n",
    "pts=np.array([[100,100],[300,150],[400,300],[50,258]],np.int32)\n",
    "# print(pts.shape)\n",
    "# pts = pts.reshape((-1,1,2))\n",
    "# print(pts,pts.shape)\n",
    "cv.polylines(img,[pts],True,(0,255,255),10) # True为封闭\n",
    "imageRGB = cv.cvtColor(img, cv.COLOR_BGR2RGB)\n",
    "plt.imshow(imageRGB)\n",
    "# plt.show()\n",
    "\n",
    "## 添加文字\n",
    "\n",
    "# 文字 位置 字体 大小 颜色 粗细 线条类型\n",
    "font = cv.FONT_HERSHEY_SIMPLEX\n",
    "cv.putText(img,'OpenCV',(60,450),font,3,(255,255,255),8)\n",
    "imageRGB = cv.cvtColor(img,cv.COLOR_BGR2RGB)\n",
    "plt.imshow(img)\n",
    "plt.show()"
   ]
  },
  {
   "cell_type": "markdown",
   "metadata": {},
   "source": [
    "## P6-7 画opencv的logo"
   ]
  },
  {
   "cell_type": "code",
   "execution_count": 81,
   "metadata": {},
   "outputs": [
    {
     "output_type": "display_data",
     "data": {
      "text/plain": "<Figure size 432x288 with 1 Axes>",
      "image/svg+xml": "<?xml version=\"1.0\" encoding=\"utf-8\" standalone=\"no\"?>\r\n<!DOCTYPE svg PUBLIC \"-//W3C//DTD SVG 1.1//EN\"\r\n  \"http://www.w3.org/Graphics/SVG/1.1/DTD/svg11.dtd\">\r\n<!-- Created with matplotlib (https://matplotlib.org/) -->\r\n<svg height=\"252.208624pt\" version=\"1.1\" viewBox=\"0 0 214.4395 252.208624\" width=\"214.4395pt\" xmlns=\"http://www.w3.org/2000/svg\" xmlns:xlink=\"http://www.w3.org/1999/xlink\">\r\n <defs>\r\n  <style type=\"text/css\">\r\n*{stroke-linecap:butt;stroke-linejoin:round;}\r\n  </style>\r\n </defs>\r\n <g id=\"figure_1\">\r\n  <g id=\"patch_1\">\r\n   <path d=\"M 0 252.208624 \r\nL 214.4395 252.208624 \r\nL 214.4395 0 \r\nL 0 0 \r\nz\r\n\" style=\"fill:none;\"/>\r\n  </g>\r\n  <g id=\"axes_1\">\r\n   <g id=\"patch_2\">\r\n    <path d=\"M 33.2875 228.330499 \r\nL 207.2395 228.330499 \r\nL 207.2395 10.890499 \r\nL 33.2875 10.890499 \r\nz\r\n\" style=\"fill:#ffffff;\"/>\r\n   </g>\r\n   <g clip-path=\"url(#pd210f93f45)\">\r\n    <image height=\"218\" id=\"imagec5435d037a\" transform=\"scale(1 -1)translate(0 -218)\" width=\"174\" x=\"33.2875\" xlink:href=\"data:image/png;base64,\r\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\" y=\"-10.330499\"/>\r\n   </g>\r\n   <g id=\"matplotlib.axis_1\">\r\n    <g id=\"xtick_1\">\r\n     <g id=\"line2d_1\">\r\n      <defs>\r\n       <path d=\"M 0 0 \r\nL 0 3.5 \r\n\" id=\"m5b493db5c1\" style=\"stroke:#000000;stroke-width:0.8;\"/>\r\n      </defs>\r\n      <g>\r\n       <use style=\"stroke:#000000;stroke-width:0.8;\" x=\"33.39622\" xlink:href=\"#m5b493db5c1\" y=\"228.330499\"/>\r\n      </g>\r\n     </g>\r\n     <g id=\"text_1\">\r\n      <!-- 0 -->\r\n      <defs>\r\n       <path d=\"M 31.78125 66.40625 \r\nQ 24.171875 66.40625 20.328125 58.90625 \r\nQ 16.5 51.421875 16.5 36.375 \r\nQ 16.5 21.390625 20.328125 13.890625 \r\nQ 24.171875 6.390625 31.78125 6.390625 \r\nQ 39.453125 6.390625 43.28125 13.890625 \r\nQ 47.125 21.390625 47.125 36.375 \r\nQ 47.125 51.421875 43.28125 58.90625 \r\nQ 39.453125 66.40625 31.78125 66.40625 \r\nz\r\nM 31.78125 74.21875 \r\nQ 44.046875 74.21875 50.515625 64.515625 \r\nQ 56.984375 54.828125 56.984375 36.375 \r\nQ 56.984375 17.96875 50.515625 8.265625 \r\nQ 44.046875 -1.421875 31.78125 -1.421875 \r\nQ 19.53125 -1.421875 13.0625 8.265625 \r\nQ 6.59375 17.96875 6.59375 36.375 \r\nQ 6.59375 54.828125 13.0625 64.515625 \r\nQ 19.53125 74.21875 31.78125 74.21875 \r\nz\r\n\" id=\"DejaVuSans-48\"/>\r\n      </defs>\r\n      <g transform=\"translate(30.21497 242.928936)scale(0.1 -0.1)\">\r\n       <use xlink:href=\"#DejaVuSans-48\"/>\r\n      </g>\r\n     </g>\r\n    </g>\r\n    <g id=\"xtick_2\">\r\n     <g id=\"line2d_2\">\r\n      <g>\r\n       <use style=\"stroke:#000000;stroke-width:0.8;\" x=\"76.88422\" xlink:href=\"#m5b493db5c1\" y=\"228.330499\"/>\r\n      </g>\r\n     </g>\r\n     <g id=\"text_2\">\r\n      <!-- 200 -->\r\n      <defs>\r\n       <path d=\"M 19.1875 8.296875 \r\nL 53.609375 8.296875 \r\nL 53.609375 0 \r\nL 7.328125 0 \r\nL 7.328125 8.296875 \r\nQ 12.9375 14.109375 22.625 23.890625 \r\nQ 32.328125 33.6875 34.8125 36.53125 \r\nQ 39.546875 41.84375 41.421875 45.53125 \r\nQ 43.3125 49.21875 43.3125 52.78125 \r\nQ 43.3125 58.59375 39.234375 62.25 \r\nQ 35.15625 65.921875 28.609375 65.921875 \r\nQ 23.96875 65.921875 18.8125 64.3125 \r\nQ 13.671875 62.703125 7.8125 59.421875 \r\nL 7.8125 69.390625 \r\nQ 13.765625 71.78125 18.9375 73 \r\nQ 24.125 74.21875 28.421875 74.21875 \r\nQ 39.75 74.21875 46.484375 68.546875 \r\nQ 53.21875 62.890625 53.21875 53.421875 \r\nQ 53.21875 48.921875 51.53125 44.890625 \r\nQ 49.859375 40.875 45.40625 35.40625 \r\nQ 44.1875 33.984375 37.640625 27.21875 \r\nQ 31.109375 20.453125 19.1875 8.296875 \r\nz\r\n\" id=\"DejaVuSans-50\"/>\r\n      </defs>\r\n      <g transform=\"translate(67.34047 242.928936)scale(0.1 -0.1)\">\r\n       <use xlink:href=\"#DejaVuSans-50\"/>\r\n       <use x=\"63.623047\" xlink:href=\"#DejaVuSans-48\"/>\r\n       <use x=\"127.246094\" xlink:href=\"#DejaVuSans-48\"/>\r\n      </g>\r\n     </g>\r\n    </g>\r\n    <g id=\"xtick_3\">\r\n     <g id=\"line2d_3\">\r\n      <g>\r\n       <use style=\"stroke:#000000;stroke-width:0.8;\" x=\"120.37222\" xlink:href=\"#m5b493db5c1\" y=\"228.330499\"/>\r\n      </g>\r\n     </g>\r\n     <g id=\"text_3\">\r\n      <!-- 400 -->\r\n      <defs>\r\n       <path d=\"M 37.796875 64.3125 \r\nL 12.890625 25.390625 \r\nL 37.796875 25.390625 \r\nz\r\nM 35.203125 72.90625 \r\nL 47.609375 72.90625 \r\nL 47.609375 25.390625 \r\nL 58.015625 25.390625 \r\nL 58.015625 17.1875 \r\nL 47.609375 17.1875 \r\nL 47.609375 0 \r\nL 37.796875 0 \r\nL 37.796875 17.1875 \r\nL 4.890625 17.1875 \r\nL 4.890625 26.703125 \r\nz\r\n\" id=\"DejaVuSans-52\"/>\r\n      </defs>\r\n      <g transform=\"translate(110.82847 242.928936)scale(0.1 -0.1)\">\r\n       <use xlink:href=\"#DejaVuSans-52\"/>\r\n       <use x=\"63.623047\" xlink:href=\"#DejaVuSans-48\"/>\r\n       <use x=\"127.246094\" xlink:href=\"#DejaVuSans-48\"/>\r\n      </g>\r\n     </g>\r\n    </g>\r\n    <g id=\"xtick_4\">\r\n     <g id=\"line2d_4\">\r\n      <g>\r\n       <use style=\"stroke:#000000;stroke-width:0.8;\" x=\"163.86022\" xlink:href=\"#m5b493db5c1\" y=\"228.330499\"/>\r\n      </g>\r\n     </g>\r\n     <g id=\"text_4\">\r\n      <!-- 600 -->\r\n      <defs>\r\n       <path d=\"M 33.015625 40.375 \r\nQ 26.375 40.375 22.484375 35.828125 \r\nQ 18.609375 31.296875 18.609375 23.390625 \r\nQ 18.609375 15.53125 22.484375 10.953125 \r\nQ 26.375 6.390625 33.015625 6.390625 \r\nQ 39.65625 6.390625 43.53125 10.953125 \r\nQ 47.40625 15.53125 47.40625 23.390625 \r\nQ 47.40625 31.296875 43.53125 35.828125 \r\nQ 39.65625 40.375 33.015625 40.375 \r\nz\r\nM 52.59375 71.296875 \r\nL 52.59375 62.3125 \r\nQ 48.875 64.0625 45.09375 64.984375 \r\nQ 41.3125 65.921875 37.59375 65.921875 \r\nQ 27.828125 65.921875 22.671875 59.328125 \r\nQ 17.53125 52.734375 16.796875 39.40625 \r\nQ 19.671875 43.65625 24.015625 45.921875 \r\nQ 28.375 48.1875 33.59375 48.1875 \r\nQ 44.578125 48.1875 50.953125 41.515625 \r\nQ 57.328125 34.859375 57.328125 23.390625 \r\nQ 57.328125 12.15625 50.6875 5.359375 \r\nQ 44.046875 -1.421875 33.015625 -1.421875 \r\nQ 20.359375 -1.421875 13.671875 8.265625 \r\nQ 6.984375 17.96875 6.984375 36.375 \r\nQ 6.984375 53.65625 15.1875 63.9375 \r\nQ 23.390625 74.21875 37.203125 74.21875 \r\nQ 40.921875 74.21875 44.703125 73.484375 \r\nQ 48.484375 72.75 52.59375 71.296875 \r\nz\r\n\" id=\"DejaVuSans-54\"/>\r\n      </defs>\r\n      <g transform=\"translate(154.31647 242.928936)scale(0.1 -0.1)\">\r\n       <use xlink:href=\"#DejaVuSans-54\"/>\r\n       <use x=\"63.623047\" xlink:href=\"#DejaVuSans-48\"/>\r\n       <use x=\"127.246094\" xlink:href=\"#DejaVuSans-48\"/>\r\n      </g>\r\n     </g>\r\n    </g>\r\n   </g>\r\n   <g id=\"matplotlib.axis_2\">\r\n    <g id=\"ytick_1\">\r\n     <g id=\"line2d_5\">\r\n      <defs>\r\n       <path d=\"M 0 0 \r\nL -3.5 0 \r\n\" id=\"m01b7574a21\" style=\"stroke:#000000;stroke-width:0.8;\"/>\r\n      </defs>\r\n      <g>\r\n       <use style=\"stroke:#000000;stroke-width:0.8;\" x=\"33.2875\" xlink:href=\"#m01b7574a21\" y=\"10.999219\"/>\r\n      </g>\r\n     </g>\r\n     <g id=\"text_5\">\r\n      <!-- 0 -->\r\n      <g transform=\"translate(19.925 14.798437)scale(0.1 -0.1)\">\r\n       <use xlink:href=\"#DejaVuSans-48\"/>\r\n      </g>\r\n     </g>\r\n    </g>\r\n    <g id=\"ytick_2\">\r\n     <g id=\"line2d_6\">\r\n      <g>\r\n       <use style=\"stroke:#000000;stroke-width:0.8;\" x=\"33.2875\" xlink:href=\"#m01b7574a21\" y=\"54.487219\"/>\r\n      </g>\r\n     </g>\r\n     <g id=\"text_6\">\r\n      <!-- 200 -->\r\n      <g transform=\"translate(7.2 58.286437)scale(0.1 -0.1)\">\r\n       <use xlink:href=\"#DejaVuSans-50\"/>\r\n       <use x=\"63.623047\" xlink:href=\"#DejaVuSans-48\"/>\r\n       <use x=\"127.246094\" xlink:href=\"#DejaVuSans-48\"/>\r\n      </g>\r\n     </g>\r\n    </g>\r\n    <g id=\"ytick_3\">\r\n     <g id=\"line2d_7\">\r\n      <g>\r\n       <use style=\"stroke:#000000;stroke-width:0.8;\" x=\"33.2875\" xlink:href=\"#m01b7574a21\" y=\"97.975219\"/>\r\n      </g>\r\n     </g>\r\n     <g id=\"text_7\">\r\n      <!-- 400 -->\r\n      <g transform=\"translate(7.2 101.774437)scale(0.1 -0.1)\">\r\n       <use xlink:href=\"#DejaVuSans-52\"/>\r\n       <use x=\"63.623047\" xlink:href=\"#DejaVuSans-48\"/>\r\n       <use x=\"127.246094\" xlink:href=\"#DejaVuSans-48\"/>\r\n      </g>\r\n     </g>\r\n    </g>\r\n    <g id=\"ytick_4\">\r\n     <g id=\"line2d_8\">\r\n      <g>\r\n       <use style=\"stroke:#000000;stroke-width:0.8;\" x=\"33.2875\" xlink:href=\"#m01b7574a21\" y=\"141.463219\"/>\r\n      </g>\r\n     </g>\r\n     <g id=\"text_8\">\r\n      <!-- 600 -->\r\n      <g transform=\"translate(7.2 145.262437)scale(0.1 -0.1)\">\r\n       <use xlink:href=\"#DejaVuSans-54\"/>\r\n       <use x=\"63.623047\" xlink:href=\"#DejaVuSans-48\"/>\r\n       <use x=\"127.246094\" xlink:href=\"#DejaVuSans-48\"/>\r\n      </g>\r\n     </g>\r\n    </g>\r\n    <g id=\"ytick_5\">\r\n     <g id=\"line2d_9\">\r\n      <g>\r\n       <use style=\"stroke:#000000;stroke-width:0.8;\" x=\"33.2875\" xlink:href=\"#m01b7574a21\" y=\"184.951219\"/>\r\n      </g>\r\n     </g>\r\n     <g id=\"text_9\">\r\n      <!-- 800 -->\r\n      <defs>\r\n       <path d=\"M 31.78125 34.625 \r\nQ 24.75 34.625 20.71875 30.859375 \r\nQ 16.703125 27.09375 16.703125 20.515625 \r\nQ 16.703125 13.921875 20.71875 10.15625 \r\nQ 24.75 6.390625 31.78125 6.390625 \r\nQ 38.8125 6.390625 42.859375 10.171875 \r\nQ 46.921875 13.96875 46.921875 20.515625 \r\nQ 46.921875 27.09375 42.890625 30.859375 \r\nQ 38.875 34.625 31.78125 34.625 \r\nz\r\nM 21.921875 38.8125 \r\nQ 15.578125 40.375 12.03125 44.71875 \r\nQ 8.5 49.078125 8.5 55.328125 \r\nQ 8.5 64.0625 14.71875 69.140625 \r\nQ 20.953125 74.21875 31.78125 74.21875 \r\nQ 42.671875 74.21875 48.875 69.140625 \r\nQ 55.078125 64.0625 55.078125 55.328125 \r\nQ 55.078125 49.078125 51.53125 44.71875 \r\nQ 48 40.375 41.703125 38.8125 \r\nQ 48.828125 37.15625 52.796875 32.3125 \r\nQ 56.78125 27.484375 56.78125 20.515625 \r\nQ 56.78125 9.90625 50.3125 4.234375 \r\nQ 43.84375 -1.421875 31.78125 -1.421875 \r\nQ 19.734375 -1.421875 13.25 4.234375 \r\nQ 6.78125 9.90625 6.78125 20.515625 \r\nQ 6.78125 27.484375 10.78125 32.3125 \r\nQ 14.796875 37.15625 21.921875 38.8125 \r\nz\r\nM 18.3125 54.390625 \r\nQ 18.3125 48.734375 21.84375 45.5625 \r\nQ 25.390625 42.390625 31.78125 42.390625 \r\nQ 38.140625 42.390625 41.71875 45.5625 \r\nQ 45.3125 48.734375 45.3125 54.390625 \r\nQ 45.3125 60.0625 41.71875 63.234375 \r\nQ 38.140625 66.40625 31.78125 66.40625 \r\nQ 25.390625 66.40625 21.84375 63.234375 \r\nQ 18.3125 60.0625 18.3125 54.390625 \r\nz\r\n\" id=\"DejaVuSans-56\"/>\r\n      </defs>\r\n      <g transform=\"translate(7.2 188.750437)scale(0.1 -0.1)\">\r\n       <use xlink:href=\"#DejaVuSans-56\"/>\r\n       <use x=\"63.623047\" xlink:href=\"#DejaVuSans-48\"/>\r\n       <use x=\"127.246094\" xlink:href=\"#DejaVuSans-48\"/>\r\n      </g>\r\n     </g>\r\n    </g>\r\n   </g>\r\n   <g id=\"patch_3\">\r\n    <path d=\"M 33.2875 228.330499 \r\nL 33.2875 10.890499 \r\n\" style=\"fill:none;stroke:#000000;stroke-linecap:square;stroke-linejoin:miter;stroke-width:0.8;\"/>\r\n   </g>\r\n   <g id=\"patch_4\">\r\n    <path d=\"M 207.2395 228.330499 \r\nL 207.2395 10.890499 \r\n\" style=\"fill:none;stroke:#000000;stroke-linecap:square;stroke-linejoin:miter;stroke-width:0.8;\"/>\r\n   </g>\r\n   <g id=\"patch_5\">\r\n    <path d=\"M 33.2875 228.330499 \r\nL 207.2395 228.330499 \r\n\" style=\"fill:none;stroke:#000000;stroke-linecap:square;stroke-linejoin:miter;stroke-width:0.8;\"/>\r\n   </g>\r\n   <g id=\"patch_6\">\r\n    <path d=\"M 33.2875 10.890499 \r\nL 207.2395 10.890499 \r\n\" style=\"fill:none;stroke:#000000;stroke-linecap:square;stroke-linejoin:miter;stroke-width:0.8;\"/>\r\n   </g>\r\n  </g>\r\n </g>\r\n <defs>\r\n  <clipPath id=\"pd210f93f45\">\r\n   <rect height=\"217.44\" width=\"173.952\" x=\"33.2875\" y=\"10.890499\"/>\r\n  </clipPath>\r\n </defs>\r\n</svg>\r\n",
      "image/png": "[encoded data removed]"
     },
     "metadata": {
      "needs_background": "light"
     }
    }
   ],
   "source": [
    "import numpy as np\n",
    "import matplotlib.pyplot as plt\n",
    "import cv2 as cv\n",
    "\n",
    "%matplotlib inline\n",
    "\n",
    "width = 800\n",
    "r1 = 50\n",
    "r2 = 150\n",
    "interval = 360\n",
    "\n",
    "base = 520\n",
    "\n",
    "o1 = ((width - interval)//2,base)\n",
    "o2 = ((width + interval)//2,base)\n",
    "o3 = (width//2, int(base-3**0.5*interval/2))\n",
    "\n",
    "img = np.full((1000,width,3),255,np.uint8)\n",
    "\n",
    "cv.ellipse(img,o1,(r2,r2), 0,0,300, (0,255,0),-1)\n",
    "cv.ellipse(img,o2,(r2,r2), 300,0,300, (255,0,0),-1)\n",
    "cv.ellipse(img,o3,(r2,r2), 120,0,300, (0,0,255),-1)\n",
    "cv.circle(img,o1,r1,(255,255,255),-1)\n",
    "cv.circle(img,o2,r1,(255,255,255),-1)\n",
    "cv.circle(img,o3,r1,(255,255,255),-1)\n",
    "\n",
    "cv.putText(img,\"OpenCV\",(40,880),cv.FONT_HERSHEY_SIMPLEX,6,(0,0,0),16)\n",
    "\n",
    "\n",
    "imageRGB = cv.cvtColor(img,cv.COLOR_BGR2RGB)\n",
    "plt.imshow(imageRGB)\n",
    "plt.show()\n"
   ]
  },
  {
   "cell_type": "markdown",
   "metadata": {},
   "source": [
    "## P8 双击鼠标画圆"
   ]
  },
  {
   "cell_type": "code",
   "execution_count": 88,
   "metadata": {},
   "outputs": [
    {
     "output_type": "stream",
     "name": "stdout",
     "text": "\nevent>\n EVENT_FLAG_ALTKEY\nEVENT_FLAG_CTRLKEY\nEVENT_FLAG_LBUTTON\nEVENT_FLAG_MBUTTON\nEVENT_FLAG_RBUTTON\nEVENT_FLAG_SHIFTKEY\nEVENT_LBUTTONDBLCLK\nEVENT_LBUTTONDOWN\nEVENT_LBUTTONUP\nEVENT_MBUTTONDBLCLK\nEVENT_MBUTTONDOWN\nEVENT_MBUTTONUP\nEVENT_MOUSEHWHEEL\nEVENT_MOUSEMOVE\nEVENT_MOUSEWHEEL\nEVENT_RBUTTONDBLCLK\nEVENT_RBUTTONDOWN\nEVENT_RBUTTONUP\n\nfont>\n FONT_HERSHEY_COMPLEX\nFONT_HERSHEY_COMPLEX_SMALL\nFONT_HERSHEY_DUPLEX\nFONT_HERSHEY_PLAIN\nFONT_HERSHEY_SCRIPT_COMPLEX\nFONT_HERSHEY_SCRIPT_SIMPLEX\nFONT_HERSHEY_SIMPLEX\nFONT_HERSHEY_TRIPLEX\nFONT_ITALIC\nQT_FONT_BLACK\nQT_FONT_BOLD\nQT_FONT_DEMIBOLD\nQT_FONT_LIGHT\nQT_FONT_NORMAL\n"
    }
   ],
   "source": [
    "import cv2 as cv\n",
    "\n",
    "events = [i for i in dir(cv) if 'EVENT' in i]\n",
    "print('\\nevent>\\n','\\n'.join(events))\n",
    "events = [i for i in dir(cv) if 'FONT' in i]\n",
    "print('\\nfont>\\n','\\n'.join(events))"
   ]
  },
  {
   "cell_type": "code",
   "execution_count": 94,
   "metadata": {},
   "outputs": [],
   "source": [
    "import cv2 as cv\n",
    "import numpy as np\n",
    "\n",
    "def draw_circle(event, x,y, flags,param):\n",
    "    global img\n",
    "    if event == cv.EVENT_LBUTTONDBLCLK:\n",
    "        cv.circle(img,(x,y),50,(255,200,200),-1)\n",
    "\n",
    "img=np.zeros((512,512,3),np.uint8)\n",
    "cv.namedWindow('image')\n",
    "cv.setMouseCallback('image',draw_circle)\n",
    "while(1):\n",
    "    cv.imshow('image',img)\n",
    "    if cv.waitKey(20) & 0xFF == 27:\n",
    "        break\n",
    "cv.destroyAllWindows()"
   ]
  },
  {
   "cell_type": "markdown",
   "metadata": {},
   "source": [
    "## P9 鼠标绘制矩形或曲线"
   ]
  },
  {
   "cell_type": "code",
   "execution_count": 1,
   "metadata": {},
   "outputs": [],
   "source": [
    "import numpy as np\n",
    "import cv2 as cv\n",
    "\n",
    "drawing = False\n",
    "mode = True\n",
    "ix,iy = -1,-1\n",
    "\n",
    "def draw_circle(event,x,y,flags,param):\n",
    "    global ix,iy,drawing,mode\n",
    "    if event == cv.EVENT_LBUTTONDOWN:\n",
    "        drawing = True\n",
    "        ix,iy = x,y\n",
    "    elif event == cv.EVENT_MOUSEMOVE:\n",
    "        if(drawing == True):\n",
    "            if mode == True:\n",
    "                cv.rectangle(img,(ix,iy),(x,y),(0,255,0),-1)\n",
    "            else:\n",
    "                cv.circle(img,(x,y),5,(0,0,255),-1)\n",
    "    elif event == cv.EVENT_LBUTTONUP:\n",
    "        drawing = False\n",
    "        if mode == True:\n",
    "            cv.rectangle(img,(ix,iy),(x,y),(0,255,0),-1)\n",
    "        else:\n",
    "            cv.circle(img,(x,y),5,(0,0,255),-1)\n",
    "\n",
    "img = np.zeros((255,255,3),np.uint8)\n",
    "cv.namedWindow('image')\n",
    "cv.setMouseCallback('image',draw_circle)\n",
    "\n",
    "while(1):\n",
    "    cv.imshow('image',img)\n",
    "    k = cv.waitKey(1)&0xFF\n",
    "    if k == ord('m'):\n",
    "        mode = not mode\n",
    "    elif k==27:\n",
    "        break\n",
    "cv.destroyAllWindows()"
   ]
  },
  {
   "cell_type": "markdown",
   "metadata": {},
   "source": [
    "## P10 滑动条调色板"
   ]
  },
  {
   "cell_type": "code",
   "execution_count": 1,
   "metadata": {},
   "outputs": [],
   "source": [
    "import numpy as np\n",
    "import cv2 as cv\n",
    "\n",
    "def nothing(x):\n",
    "    pass\n",
    "\n",
    "img = np.zeros((300,510,3),np.uint8)\n",
    "cv.namedWindow('image')\n",
    "\n",
    "cv.createTrackbar('R','image',0,255,nothing)\n",
    "cv.createTrackbar('G','image',0,255,nothing)\n",
    "cv.createTrackbar('B','image',0,255,nothing)\n",
    "\n",
    "switch = '0 : OFF \\n1 : ON'\n",
    "cv.createTrackbar(switch,'image',0,1,nothing)\n",
    "\n",
    "while(1):\n",
    "    cv.imshow('image',img)\n",
    "    k = cv.waitKey(1) & 0xFF\n",
    "    if k == 27:\n",
    "        break\n",
    "    r = cv.getTrackbarPos('R','image')\n",
    "    g = cv.getTrackbarPos('G','image')\n",
    "    b = cv.getTrackbarPos('B','image')\n",
    "    s = cv.getTrackbarPos(switch,'image')\n",
    "\n",
    "    if s == 0:\n",
    "        img[:]=0\n",
    "    else:\n",
    "        img[:]=[b,g,r]\n",
    "cv.destroyAllWindows()"
   ]
  },
  {
   "cell_type": "markdown",
   "metadata": {},
   "source": [
    "## P11 数组赋值方法"
   ]
  },
  {
   "cell_type": "code",
   "execution_count": 3,
   "metadata": {},
   "outputs": [
    {
     "output_type": "stream",
     "name": "stdout",
     "text": "[[[0 0 0]\n  [0 0 0]]\n\n [[0 0 0]\n  [0 0 0]]\n\n [[0 0 0]\n  [0 0 0]]]  < 2001038737616\n[[[100 200  44]\n  [100 200  44]]\n\n [[100 200  44]\n  [100 200  44]]\n\n [[100 200  44]\n  [100 200  44]]]  < 2001038737616\n"
    }
   ],
   "source": [
    "import numpy as np\n",
    "img = np.zeros((3,2,3),np.uint8)\n",
    "print(img,' <',id(img))\n",
    "img[:] = [100,200,300]\n",
    "print(img,' <',id(img))"
   ]
  },
  {
   "cell_type": "markdown",
   "metadata": {},
   "source": [
    "...\n",
    "\n",
    "## P12 自定义颜色的鼠标绘图"
   ]
  },
  {
   "cell_type": "code",
   "execution_count": 6,
   "metadata": {},
   "outputs": [],
   "source": [
    "import numpy as np\n",
    "import cv2 as cv\n",
    "\n",
    "def nothing(x):\n",
    "    pass\n",
    "\n",
    "img = np.full((300,510,3),255,np.uint8)\n",
    "cv.namedWindow('image')\n",
    "\n",
    "cv.createTrackbar('R','image',0,255,nothing)\n",
    "cv.createTrackbar('G','image',0,255,nothing)\n",
    "cv.createTrackbar('B','image',0,255,nothing)\n",
    "\n",
    "switch = '0 : OFF \\n1 : ON'\n",
    "cv.createTrackbar(switch,'image',0,1,nothing)\n",
    "\n",
    "\n",
    "drawing = False\n",
    "mode = True\n",
    "ix,iy = -1,-1\n",
    "color = (0,0,0)\n",
    "\n",
    "def draw_circle(event,x,y,flags,param):\n",
    "    global ix,iy,drawing,mode,color\n",
    "    if event == cv.EVENT_LBUTTONDOWN:\n",
    "        drawing = True\n",
    "        ix,iy = x,y\n",
    "    elif event == cv.EVENT_MOUSEMOVE:\n",
    "        if(drawing == True):\n",
    "            if mode == True:\n",
    "                cv.rectangle(img,(ix,iy),(x,y),color,-1)\n",
    "            else:\n",
    "                cv.circle(img,(x,y),5,color,-1)\n",
    "    elif event == cv.EVENT_LBUTTONUP:\n",
    "        drawing = False\n",
    "        if mode == True:\n",
    "            cv.rectangle(img,(ix,iy),(x,y),color,-1)\n",
    "        else:\n",
    "            cv.circle(img,(x,y),5,color,-1)\n",
    "\n",
    "cv.setMouseCallback('image',draw_circle)\n",
    "\n",
    "while(1):\n",
    "    cv.imshow('image',img)\n",
    "    k = cv.waitKey(1)&0xFF\n",
    "    if k == ord('m'):\n",
    "        mode = not mode\n",
    "    elif k==27:\n",
    "        break\n",
    "    \n",
    "    r = cv.getTrackbarPos('R','image')\n",
    "    g = cv.getTrackbarPos('G','image')\n",
    "    b = cv.getTrackbarPos('B','image')\n",
    "    s = cv.getTrackbarPos(switch,'image')\n",
    "\n",
    "    if s == 1:\n",
    "        img[:]=255\n",
    "    else:\n",
    "        color=[b,g,r]\n",
    "\n",
    "cv.destroyAllWindows()"
   ]
  }
 ],
 "metadata": {
  "kernelspec": {
   "display_name": "Python 3.8.2 64-bit ('opencv': conda)",
   "language": "python",
   "name": "python38264bitopencvcondaf8e25ba750324c03822601bb64b1caae"
  },
  "language_info": {
   "codemirror_mode": {
    "name": "ipython",
    "version": 3
   },
   "file_extension": ".py",
   "mimetype": "text/x-python",
   "name": "python",
   "nbconvert_exporter": "python",
   "pygments_lexer": "ipython3",
   "version": "3.8.2-final"
  }
 },
 "nbformat": 4,
 "nbformat_minor": 4
}